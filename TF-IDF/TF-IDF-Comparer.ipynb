{
 "cells": [
  {
   "cell_type": "markdown",
   "metadata": {},
   "source": [
    "# Function of Notebook"
   ]
  },
  {
   "cell_type": "markdown",
   "metadata": {},
   "source": [
    "This notebook attempts to identify words that are unique and relevant to a subset of a textual dataset using term frequency - inverse document frequency (tf-idf). The idea is to create a very easy to interpret visualization of what people are talking about in a particular subset of the given text responses. We use this tool both as a sanity check for more advanced topic modeling and as a safe way to get quick initial results.\n",
    "\n",
    "The correct interpretation of results is:\n",
    "- The words shown are non-generic words commonly used in the subset of interest, but not commonly used in the entire textual dataset"
   ]
  },
  {
   "cell_type": "markdown",
   "metadata": {},
   "source": [
    "## How to use"
   ]
  },
  {
   "cell_type": "markdown",
   "metadata": {},
   "source": [
    "It is highly recommended to run the preprocessing notebook on your text before using this notebook as tf-idf assumes a very naive model of language use.\n",
    "\n",
    "Make sure that your dataset contains an index column which has a unique number or code for each response.\n",
    "\n",
    "The user will need edit the information in the data section to identify where the data lives on their computer and where in the data the textual information lives. Additionally, a column which describes the subset of the data to look at is must be specified in the \"looking at results\" section. For example, with a gender column, one might set 'acceptable_values' to the list ['F'] in order to look at interesting words used commonly by women but not men."
   ]
  },
  {
   "cell_type": "markdown",
   "metadata": {},
   "source": [
    "## Quick Links"
   ]
  },
  {
   "cell_type": "markdown",
   "metadata": {},
   "source": [
    "[Click here to jump to data imports](#libraries)\n",
    "\n",
    "[Click here to jump to Results and Subset selection](#defining-the-subset-of-interest-and-looking-at-results)"
   ]
  },
  {
   "cell_type": "markdown",
   "metadata": {},
   "source": [
    "# Imports"
   ]
  },
  {
   "cell_type": "markdown",
   "metadata": {},
   "source": [
    "## Libraries"
   ]
  },
  {
   "cell_type": "code",
   "execution_count": 15,
   "metadata": {},
   "outputs": [],
   "source": [
    "import pandas as pd\n",
    "import numpy as np"
   ]
  },
  {
   "cell_type": "code",
   "execution_count": 16,
   "metadata": {},
   "outputs": [],
   "source": [
    "from scipy import sparse\n",
    "from itertools import chain"
   ]
  },
  {
   "cell_type": "code",
   "execution_count": 17,
   "metadata": {},
   "outputs": [],
   "source": [
    "from IPython.display import display, display_html\n",
    "from ipywidgets import interact"
   ]
  },
  {
   "cell_type": "code",
   "execution_count": 18,
   "metadata": {},
   "outputs": [],
   "source": [
    "from gensim.models import TfidfModel\n",
    "from gensim.corpora import Dictionary"
   ]
  },
  {
   "cell_type": "markdown",
   "metadata": {},
   "source": [
    "## Data"
   ]
  },
  {
   "cell_type": "code",
   "execution_count": 19,
   "metadata": {},
   "outputs": [],
   "source": [
    "index_col = \"unique_comment_ID\" # Column with unique number or code per response\n",
    "text_col = \"Preprocessed answer\" # Column with the text to use\n",
    "data_path = \"/home/azureuser/cloudfiles/code/Data/pp-20210830_SES_and_SET.csv\""
   ]
  },
  {
   "cell_type": "code",
   "execution_count": 20,
   "metadata": {},
   "outputs": [],
   "source": [
    "raw_data = pd.read_csv(data_path)\n",
    "raw_data.set_index(index_col, inplace=True)"
   ]
  },
  {
   "cell_type": "code",
   "execution_count": 21,
   "metadata": {},
   "outputs": [],
   "source": [
    "raw_data.dropna(inplace=True) # Remove missing responses"
   ]
  },
  {
   "cell_type": "code",
   "execution_count": 22,
   "metadata": {},
   "outputs": [],
   "source": [
    "#raw_data = raw_data.query(\"survey == 'SES'\") # Choosing to not use the whole dataset"
   ]
  },
  {
   "cell_type": "code",
   "execution_count": 23,
   "metadata": {},
   "outputs": [
    {
     "name": "stdout",
     "output_type": "stream",
     "text": [
      "Number of textual responses:\t 296125\n"
     ]
    },
    {
     "data": {
      "text/html": [
       "<div>\n",
       "<style scoped>\n",
       "    .dataframe tbody tr th:only-of-type {\n",
       "        vertical-align: middle;\n",
       "    }\n",
       "\n",
       "    .dataframe tbody tr th {\n",
       "        vertical-align: top;\n",
       "    }\n",
       "\n",
       "    .dataframe thead th {\n",
       "        text-align: right;\n",
       "    }\n",
       "</style>\n",
       "<table border=\"1\" class=\"dataframe\">\n",
       "  <thead>\n",
       "    <tr style=\"text-align: right;\">\n",
       "      <th></th>\n",
       "      <th>answer</th>\n",
       "      <th>Preprocessed answer</th>\n",
       "      <th>survey</th>\n",
       "      <th>question_ID</th>\n",
       "      <th>question_text</th>\n",
       "      <th>question_category</th>\n",
       "    </tr>\n",
       "    <tr>\n",
       "      <th>unique_comment_ID</th>\n",
       "      <th></th>\n",
       "      <th></th>\n",
       "      <th></th>\n",
       "      <th></th>\n",
       "      <th></th>\n",
       "      <th></th>\n",
       "    </tr>\n",
       "  </thead>\n",
       "  <tbody>\n",
       "    <tr>\n",
       "      <th>5228445_15769_1_X840307</th>\n",
       "      <td>On the first assignment, detailed feedback was...</td>\n",
       "      <td>assignment detailed feedback believe allow imp...</td>\n",
       "      <td>SES</td>\n",
       "      <td>X840307</td>\n",
       "      <td>What specific change in the clarity of instruc...</td>\n",
       "      <td>text_improvement</td>\n",
       "    </tr>\n",
       "    <tr>\n",
       "      <th>5228445_15769_1_X840321</th>\n",
       "      <td>Opportunities provided in this course to activ...</td>\n",
       "      <td>opportunity provide course actively engage dif...</td>\n",
       "      <td>SES</td>\n",
       "      <td>X840321</td>\n",
       "      <td>What specifically about the use of active lear...</td>\n",
       "      <td>text_beneficial</td>\n",
       "    </tr>\n",
       "    <tr>\n",
       "      <th>5228445_15769_1_X840298</th>\n",
       "      <td>I get frequent migraines and am trying to keep...</td>\n",
       "      <td>frequent migraine try plate air commute salem ...</td>\n",
       "      <td>SES</td>\n",
       "      <td>X840298</td>\n",
       "      <td>Why did you attend class 75-90% of the time?</td>\n",
       "      <td>attendance</td>\n",
       "    </tr>\n",
       "    <tr>\n",
       "      <th>5228445_15769_2_X840319</th>\n",
       "      <td>like the breadth and variety of topics relevan...</td>\n",
       "      <td>like breadth variety topic relevant provide co...</td>\n",
       "      <td>SES</td>\n",
       "      <td>X840319</td>\n",
       "      <td>What specifically about the quality of course ...</td>\n",
       "      <td>text_beneficial</td>\n",
       "    </tr>\n",
       "    <tr>\n",
       "      <th>5228445_15769_2_X840296</th>\n",
       "      <td>Have more class time for learning about UO lib...</td>\n",
       "      <td>class time learn uo library link directly fina...</td>\n",
       "      <td>SES</td>\n",
       "      <td>X840296</td>\n",
       "      <td>What else would you like to say about your lea...</td>\n",
       "      <td>open_final</td>\n",
       "    </tr>\n",
       "  </tbody>\n",
       "</table>\n",
       "</div>"
      ],
      "text/plain": [
       "                                                                    answer  \\\n",
       "unique_comment_ID                                                            \n",
       "5228445_15769_1_X840307  On the first assignment, detailed feedback was...   \n",
       "5228445_15769_1_X840321  Opportunities provided in this course to activ...   \n",
       "5228445_15769_1_X840298  I get frequent migraines and am trying to keep...   \n",
       "5228445_15769_2_X840319  like the breadth and variety of topics relevan...   \n",
       "5228445_15769_2_X840296  Have more class time for learning about UO lib...   \n",
       "\n",
       "                                                       Preprocessed answer  \\\n",
       "unique_comment_ID                                                            \n",
       "5228445_15769_1_X840307  assignment detailed feedback believe allow imp...   \n",
       "5228445_15769_1_X840321  opportunity provide course actively engage dif...   \n",
       "5228445_15769_1_X840298  frequent migraine try plate air commute salem ...   \n",
       "5228445_15769_2_X840319  like breadth variety topic relevant provide co...   \n",
       "5228445_15769_2_X840296  class time learn uo library link directly fina...   \n",
       "\n",
       "                        survey question_ID  \\\n",
       "unique_comment_ID                            \n",
       "5228445_15769_1_X840307    SES     X840307   \n",
       "5228445_15769_1_X840321    SES     X840321   \n",
       "5228445_15769_1_X840298    SES     X840298   \n",
       "5228445_15769_2_X840319    SES     X840319   \n",
       "5228445_15769_2_X840296    SES     X840296   \n",
       "\n",
       "                                                             question_text  \\\n",
       "unique_comment_ID                                                            \n",
       "5228445_15769_1_X840307  What specific change in the clarity of instruc...   \n",
       "5228445_15769_1_X840321  What specifically about the use of active lear...   \n",
       "5228445_15769_1_X840298       Why did you attend class 75-90% of the time?   \n",
       "5228445_15769_2_X840319  What specifically about the quality of course ...   \n",
       "5228445_15769_2_X840296  What else would you like to say about your lea...   \n",
       "\n",
       "                        question_category  \n",
       "unique_comment_ID                          \n",
       "5228445_15769_1_X840307  text_improvement  \n",
       "5228445_15769_1_X840321   text_beneficial  \n",
       "5228445_15769_1_X840298        attendance  \n",
       "5228445_15769_2_X840319   text_beneficial  \n",
       "5228445_15769_2_X840296        open_final  "
      ]
     },
     "execution_count": 23,
     "metadata": {},
     "output_type": "execute_result"
    }
   ],
   "source": [
    "print(\"Number of textual responses:\\t\",len(raw_data))\n",
    "raw_data.head()"
   ]
  },
  {
   "cell_type": "markdown",
   "metadata": {},
   "source": [
    "### Add metadata"
   ]
  },
  {
   "cell_type": "markdown",
   "metadata": {},
   "source": [
    "Metadata in this context is a secondary dataset to be joined on index with primary textual data. Useful if the text is kept separate from other identifying characteristics."
   ]
  },
  {
   "cell_type": "code",
   "execution_count": 24,
   "metadata": {},
   "outputs": [],
   "source": [
    "# metadata_path = \"/home/azureuser/cloudfiles/code/Data/pp-20210625_SES_and_SET_comments.csv\"\n",
    "# metadata = pd.read_csv(\n",
    "#     metadata_path,\n",
    "#     usecols= [index_col,\"question_ID\",\"survey\",\"question_text\"]\n",
    "#     )\n",
    "# metadata.set_index(index_col, inplace=True)"
   ]
  },
  {
   "cell_type": "code",
   "execution_count": 25,
   "metadata": {},
   "outputs": [],
   "source": [
    "# raw_data = raw_data.join(metadata)"
   ]
  },
  {
   "cell_type": "markdown",
   "metadata": {},
   "source": [
    "### Tokenize Documents"
   ]
  },
  {
   "cell_type": "code",
   "execution_count": 26,
   "metadata": {},
   "outputs": [
    {
     "data": {
      "text/html": [
       "<div>\n",
       "<style scoped>\n",
       "    .dataframe tbody tr th:only-of-type {\n",
       "        vertical-align: middle;\n",
       "    }\n",
       "\n",
       "    .dataframe tbody tr th {\n",
       "        vertical-align: top;\n",
       "    }\n",
       "\n",
       "    .dataframe thead th {\n",
       "        text-align: right;\n",
       "    }\n",
       "</style>\n",
       "<table border=\"1\" class=\"dataframe\">\n",
       "  <thead>\n",
       "    <tr style=\"text-align: right;\">\n",
       "      <th></th>\n",
       "      <th>Preprocessed answer</th>\n",
       "    </tr>\n",
       "    <tr>\n",
       "      <th>unique_comment_ID</th>\n",
       "      <th></th>\n",
       "    </tr>\n",
       "  </thead>\n",
       "  <tbody>\n",
       "    <tr>\n",
       "      <th>5228445_15769_1_X840307</th>\n",
       "      <td>[assignment, detailed, feedback, believe, allo...</td>\n",
       "    </tr>\n",
       "    <tr>\n",
       "      <th>5228445_15769_1_X840321</th>\n",
       "      <td>[opportunity, provide, course, actively, engag...</td>\n",
       "    </tr>\n",
       "    <tr>\n",
       "      <th>5228445_15769_1_X840298</th>\n",
       "      <td>[frequent, migraine, try, plate, air, commute,...</td>\n",
       "    </tr>\n",
       "    <tr>\n",
       "      <th>5228445_15769_2_X840319</th>\n",
       "      <td>[like, breadth, variety, topic, relevant, prov...</td>\n",
       "    </tr>\n",
       "    <tr>\n",
       "      <th>5228445_15769_2_X840296</th>\n",
       "      <td>[class, time, learn, uo, library, link, direct...</td>\n",
       "    </tr>\n",
       "  </tbody>\n",
       "</table>\n",
       "</div>"
      ],
      "text/plain": [
       "                                                       Preprocessed answer\n",
       "unique_comment_ID                                                         \n",
       "5228445_15769_1_X840307  [assignment, detailed, feedback, believe, allo...\n",
       "5228445_15769_1_X840321  [opportunity, provide, course, actively, engag...\n",
       "5228445_15769_1_X840298  [frequent, migraine, try, plate, air, commute,...\n",
       "5228445_15769_2_X840319  [like, breadth, variety, topic, relevant, prov...\n",
       "5228445_15769_2_X840296  [class, time, learn, uo, library, link, direct..."
      ]
     },
     "execution_count": 26,
     "metadata": {},
     "output_type": "execute_result"
    }
   ],
   "source": [
    "texts = raw_data[[text_col]].applymap(str.split)\n",
    "texts.head(5)"
   ]
  },
  {
   "cell_type": "markdown",
   "metadata": {},
   "source": [
    "### Generate Dictionary"
   ]
  },
  {
   "cell_type": "code",
   "execution_count": 27,
   "metadata": {},
   "outputs": [],
   "source": [
    "dictionary = Dictionary(texts[text_col])"
   ]
  },
  {
   "cell_type": "markdown",
   "metadata": {},
   "source": [
    "### Convert Tokenized text to Tokenized IDs"
   ]
  },
  {
   "cell_type": "code",
   "execution_count": 28,
   "metadata": {},
   "outputs": [],
   "source": [
    "corpus = texts.applymap(dictionary.doc2bow)"
   ]
  },
  {
   "cell_type": "code",
   "execution_count": 29,
   "metadata": {},
   "outputs": [
    {
     "data": {
      "text/html": [
       "<div>\n",
       "<style scoped>\n",
       "    .dataframe tbody tr th:only-of-type {\n",
       "        vertical-align: middle;\n",
       "    }\n",
       "\n",
       "    .dataframe tbody tr th {\n",
       "        vertical-align: top;\n",
       "    }\n",
       "\n",
       "    .dataframe thead th {\n",
       "        text-align: right;\n",
       "    }\n",
       "</style>\n",
       "<table border=\"1\" class=\"dataframe\">\n",
       "  <thead>\n",
       "    <tr style=\"text-align: right;\">\n",
       "      <th></th>\n",
       "      <th>Preprocessed answer</th>\n",
       "    </tr>\n",
       "    <tr>\n",
       "      <th>unique_comment_ID</th>\n",
       "      <th></th>\n",
       "    </tr>\n",
       "  </thead>\n",
       "  <tbody>\n",
       "    <tr>\n",
       "      <th>5228445_15769_1_X840307</th>\n",
       "      <td>[(0, 1), (1, 3), (2, 1), (3, 1), (4, 1), (5, 2...</td>\n",
       "    </tr>\n",
       "    <tr>\n",
       "      <th>5228445_15769_1_X840321</th>\n",
       "      <td>[(11, 1), (12, 1), (13, 1), (14, 1), (15, 1), ...</td>\n",
       "    </tr>\n",
       "    <tr>\n",
       "      <th>5228445_15769_1_X840298</th>\n",
       "      <td>[(8, 1), (15, 1), (16, 1), (20, 1), (34, 1), (...</td>\n",
       "    </tr>\n",
       "    <tr>\n",
       "      <th>5228445_15769_2_X840319</th>\n",
       "      <td>[(29, 1), (51, 1), (52, 1), (53, 1), (54, 1), ...</td>\n",
       "    </tr>\n",
       "    <tr>\n",
       "      <th>5228445_15769_2_X840296</th>\n",
       "      <td>[(58, 1), (60, 1), (61, 1), (62, 1), (63, 1), ...</td>\n",
       "    </tr>\n",
       "  </tbody>\n",
       "</table>\n",
       "</div>"
      ],
      "text/plain": [
       "                                                       Preprocessed answer\n",
       "unique_comment_ID                                                         \n",
       "5228445_15769_1_X840307  [(0, 1), (1, 3), (2, 1), (3, 1), (4, 1), (5, 2...\n",
       "5228445_15769_1_X840321  [(11, 1), (12, 1), (13, 1), (14, 1), (15, 1), ...\n",
       "5228445_15769_1_X840298  [(8, 1), (15, 1), (16, 1), (20, 1), (34, 1), (...\n",
       "5228445_15769_2_X840319  [(29, 1), (51, 1), (52, 1), (53, 1), (54, 1), ...\n",
       "5228445_15769_2_X840296  [(58, 1), (60, 1), (61, 1), (62, 1), (63, 1), ..."
      ]
     },
     "execution_count": 29,
     "metadata": {},
     "output_type": "execute_result"
    }
   ],
   "source": [
    "corpus.head(5)"
   ]
  },
  {
   "cell_type": "markdown",
   "metadata": {},
   "source": [
    "# Helper Functions"
   ]
  },
  {
   "cell_type": "code",
   "execution_count": 30,
   "metadata": {},
   "outputs": [],
   "source": [
    "def display_side_by_side(*args):\n",
    "    html_str=''\n",
    "    for df in args:\n",
    "        html_str+=df.to_html() + (\"\\xa0\" * 5) # Spaces\n",
    "    display_html(html_str.replace('<table','<table style=\"display:inline\"'),raw=True)"
   ]
  },
  {
   "cell_type": "code",
   "execution_count": 31,
   "metadata": {},
   "outputs": [],
   "source": [
    "def display_head_wide(df,num = 40,cols = 5):\n",
    "    num = min(num,len(df)) # Just in case num is specified to be larger than the number of entires in df\n",
    "    per_col = int(np.ceil(num/cols)) # Figure out how many to show per column\n",
    "    display_side_by_side(*[df.iloc[x: x + per_col] for x in range(0,num,per_col)]) # Display the columns. *[] used to partition the dataframe"
   ]
  },
  {
   "cell_type": "markdown",
   "metadata": {},
   "source": [
    "# Calculate TF-IDF Scores"
   ]
  },
  {
   "cell_type": "markdown",
   "metadata": {},
   "source": [
    "## Define and test function to map"
   ]
  },
  {
   "cell_type": "markdown",
   "metadata": {},
   "source": [
    "### Intialize tf-idf model"
   ]
  },
  {
   "cell_type": "code",
   "execution_count": 32,
   "metadata": {},
   "outputs": [],
   "source": [
    "# I have to convert to single column then list because they have a line in the tfidf code\n",
    "# That says elif \"corpus\" and pd thinks it is special so unlike everything else that\n",
    "# returns true, this returns an error\n",
    "tfidf = TfidfModel(corpus = corpus[text_col].tolist(),id2word = dictionary)"
   ]
  },
  {
   "cell_type": "code",
   "execution_count": 33,
   "metadata": {},
   "outputs": [],
   "source": [
    "transformed_corpus = tfidf[corpus[text_col]]"
   ]
  },
  {
   "cell_type": "markdown",
   "metadata": {},
   "source": [
    "### Create a sparse dataframe where each row is a document, and each column is a word, and each entry is a tf-idf score"
   ]
  },
  {
   "cell_type": "markdown",
   "metadata": {},
   "source": [
    "The sparse matrix implementation is necessary if we want to keep the entirity of the tf-idf calculations in memory and have it easily accessible for computation. There is room for a better implementation in the future. "
   ]
  },
  {
   "cell_type": "markdown",
   "metadata": {},
   "source": [
    "#### Calculate the tf-idf scores and format them"
   ]
  },
  {
   "cell_type": "code",
   "execution_count": 34,
   "metadata": {},
   "outputs": [],
   "source": [
    "# Create a dataframe where each word in each doc has a row saying its doc number, word id, and tfidf score\n",
    "i = 0 # Initize a new document index to use for sparse matrix specification\n",
    "result_corpus = []\n",
    "for doc in transformed_corpus:\n",
    "    new_doc = list(map(lambda tup: (i,) + tup,doc)) # Add doc idx to the tuple given by the tfidf model\n",
    "    result_corpus.append(new_doc) # Add it to the correctly formatted corpus\n",
    "    i+=1\n",
    "tfidf_indices = pd.DataFrame(chain(*result_corpus)) # Flatten out the list so each word has an entry as opposed to each document"
   ]
  },
  {
   "cell_type": "markdown",
   "metadata": {},
   "source": [
    "#### Put the formatted scores into a sparse matrix"
   ]
  },
  {
   "cell_type": "code",
   "execution_count": 35,
   "metadata": {},
   "outputs": [],
   "source": [
    "[i,j,data] = tfidf_indices.T.to_numpy() # Convert our rows to lists of indices to the sparse matrix creation\n",
    "i = i.astype(int) # Convert rows to int. For some reason pandas transpose ruins datatypes\n",
    "j = j.astype(int) # Convert cols to int\n",
    "tfidf_sparse = sparse.coo_matrix((data,(i,j)))"
   ]
  },
  {
   "cell_type": "markdown",
   "metadata": {},
   "source": [
    "#### Convert sparse matrix to dataframe and name indices"
   ]
  },
  {
   "cell_type": "code",
   "execution_count": 36,
   "metadata": {},
   "outputs": [],
   "source": [
    "tfidf_scores = pd.DataFrame.sparse.from_spmatrix(tfidf_sparse)\n",
    "tfidf_scores.index = corpus.index\n",
    "tfidf_scores.rename(columns = dictionary,inplace = True)"
   ]
  },
  {
   "cell_type": "markdown",
   "metadata": {},
   "source": [
    "#### Examine the created dataframe"
   ]
  },
  {
   "cell_type": "code",
   "execution_count": 37,
   "metadata": {},
   "outputs": [
    {
     "data": {
      "text/html": [
       "<div>\n",
       "<style scoped>\n",
       "    .dataframe tbody tr th:only-of-type {\n",
       "        vertical-align: middle;\n",
       "    }\n",
       "\n",
       "    .dataframe tbody tr th {\n",
       "        vertical-align: top;\n",
       "    }\n",
       "\n",
       "    .dataframe thead th {\n",
       "        text-align: right;\n",
       "    }\n",
       "</style>\n",
       "<table border=\"1\" class=\"dataframe\">\n",
       "  <thead>\n",
       "    <tr style=\"text-align: right;\">\n",
       "      <th></th>\n",
       "      <th>allow</th>\n",
       "      <th>assignment</th>\n",
       "      <th>believe</th>\n",
       "      <th>beneficial</th>\n",
       "      <th>detailed</th>\n",
       "      <th>feedback</th>\n",
       "      <th>improve</th>\n",
       "      <th>performance</th>\n",
       "      <th>quality</th>\n",
       "      <th>subsequent</th>\n",
       "      <th>...</th>\n",
       "      <th>explanitory</th>\n",
       "      <th>douglas</th>\n",
       "      <th>historical/</th>\n",
       "      <th>musing</th>\n",
       "      <th>colorado</th>\n",
       "      <th>tipping</th>\n",
       "      <th>warned</th>\n",
       "      <th>clarife</th>\n",
       "      <th>medley</th>\n",
       "      <th>jibe</th>\n",
       "    </tr>\n",
       "    <tr>\n",
       "      <th>unique_comment_ID</th>\n",
       "      <th></th>\n",
       "      <th></th>\n",
       "      <th></th>\n",
       "      <th></th>\n",
       "      <th></th>\n",
       "      <th></th>\n",
       "      <th></th>\n",
       "      <th></th>\n",
       "      <th></th>\n",
       "      <th></th>\n",
       "      <th></th>\n",
       "      <th></th>\n",
       "      <th></th>\n",
       "      <th></th>\n",
       "      <th></th>\n",
       "      <th></th>\n",
       "      <th></th>\n",
       "      <th></th>\n",
       "      <th></th>\n",
       "      <th></th>\n",
       "      <th></th>\n",
       "    </tr>\n",
       "  </thead>\n",
       "  <tbody>\n",
       "    <tr>\n",
       "      <th>5228445_15769_1_X840307</th>\n",
       "      <td>0.226158</td>\n",
       "      <td>0.370186</td>\n",
       "      <td>0.269053</td>\n",
       "      <td>0.192283</td>\n",
       "      <td>0.294254</td>\n",
       "      <td>0.332674</td>\n",
       "      <td>0.2121</td>\n",
       "      <td>0.3619</td>\n",
       "      <td>0.273516</td>\n",
       "      <td>0.483761</td>\n",
       "      <td>...</td>\n",
       "      <td>0.0</td>\n",
       "      <td>0.0</td>\n",
       "      <td>0.0</td>\n",
       "      <td>0.0</td>\n",
       "      <td>0.0</td>\n",
       "      <td>0.0</td>\n",
       "      <td>0.0</td>\n",
       "      <td>0.0</td>\n",
       "      <td>0.0</td>\n",
       "      <td>0.0</td>\n",
       "    </tr>\n",
       "    <tr>\n",
       "      <th>5228445_15769_1_X840321</th>\n",
       "      <td>0.000000</td>\n",
       "      <td>0.000000</td>\n",
       "      <td>0.000000</td>\n",
       "      <td>0.000000</td>\n",
       "      <td>0.000000</td>\n",
       "      <td>0.000000</td>\n",
       "      <td>0.0000</td>\n",
       "      <td>0.0000</td>\n",
       "      <td>0.000000</td>\n",
       "      <td>0.000000</td>\n",
       "      <td>...</td>\n",
       "      <td>0.0</td>\n",
       "      <td>0.0</td>\n",
       "      <td>0.0</td>\n",
       "      <td>0.0</td>\n",
       "      <td>0.0</td>\n",
       "      <td>0.0</td>\n",
       "      <td>0.0</td>\n",
       "      <td>0.0</td>\n",
       "      <td>0.0</td>\n",
       "      <td>0.0</td>\n",
       "    </tr>\n",
       "    <tr>\n",
       "      <th>5228445_15769_1_X840298</th>\n",
       "      <td>0.000000</td>\n",
       "      <td>0.000000</td>\n",
       "      <td>0.000000</td>\n",
       "      <td>0.000000</td>\n",
       "      <td>0.000000</td>\n",
       "      <td>0.000000</td>\n",
       "      <td>0.0000</td>\n",
       "      <td>0.0000</td>\n",
       "      <td>0.171679</td>\n",
       "      <td>0.000000</td>\n",
       "      <td>...</td>\n",
       "      <td>0.0</td>\n",
       "      <td>0.0</td>\n",
       "      <td>0.0</td>\n",
       "      <td>0.0</td>\n",
       "      <td>0.0</td>\n",
       "      <td>0.0</td>\n",
       "      <td>0.0</td>\n",
       "      <td>0.0</td>\n",
       "      <td>0.0</td>\n",
       "      <td>0.0</td>\n",
       "    </tr>\n",
       "    <tr>\n",
       "      <th>5228445_15769_2_X840319</th>\n",
       "      <td>0.000000</td>\n",
       "      <td>0.000000</td>\n",
       "      <td>0.000000</td>\n",
       "      <td>0.000000</td>\n",
       "      <td>0.000000</td>\n",
       "      <td>0.000000</td>\n",
       "      <td>0.0000</td>\n",
       "      <td>0.0000</td>\n",
       "      <td>0.000000</td>\n",
       "      <td>0.000000</td>\n",
       "      <td>...</td>\n",
       "      <td>0.0</td>\n",
       "      <td>0.0</td>\n",
       "      <td>0.0</td>\n",
       "      <td>0.0</td>\n",
       "      <td>0.0</td>\n",
       "      <td>0.0</td>\n",
       "      <td>0.0</td>\n",
       "      <td>0.0</td>\n",
       "      <td>0.0</td>\n",
       "      <td>0.0</td>\n",
       "    </tr>\n",
       "  </tbody>\n",
       "</table>\n",
       "<p>4 rows × 24710 columns</p>\n",
       "</div>"
      ],
      "text/plain": [
       "                            allow  assignment   believe  beneficial  detailed  \\\n",
       "unique_comment_ID                                                               \n",
       "5228445_15769_1_X840307  0.226158    0.370186  0.269053    0.192283  0.294254   \n",
       "5228445_15769_1_X840321  0.000000    0.000000  0.000000    0.000000  0.000000   \n",
       "5228445_15769_1_X840298  0.000000    0.000000  0.000000    0.000000  0.000000   \n",
       "5228445_15769_2_X840319  0.000000    0.000000  0.000000    0.000000  0.000000   \n",
       "\n",
       "                         feedback  improve  performance   quality  subsequent  \\\n",
       "unique_comment_ID                                                               \n",
       "5228445_15769_1_X840307  0.332674   0.2121       0.3619  0.273516    0.483761   \n",
       "5228445_15769_1_X840321  0.000000   0.0000       0.0000  0.000000    0.000000   \n",
       "5228445_15769_1_X840298  0.000000   0.0000       0.0000  0.171679    0.000000   \n",
       "5228445_15769_2_X840319  0.000000   0.0000       0.0000  0.000000    0.000000   \n",
       "\n",
       "                         ...  explanitory  douglas  historical/  musing  \\\n",
       "unique_comment_ID        ...                                              \n",
       "5228445_15769_1_X840307  ...          0.0      0.0          0.0     0.0   \n",
       "5228445_15769_1_X840321  ...          0.0      0.0          0.0     0.0   \n",
       "5228445_15769_1_X840298  ...          0.0      0.0          0.0     0.0   \n",
       "5228445_15769_2_X840319  ...          0.0      0.0          0.0     0.0   \n",
       "\n",
       "                         colorado  tipping  warned  clarife  medley  jibe  \n",
       "unique_comment_ID                                                          \n",
       "5228445_15769_1_X840307       0.0      0.0     0.0      0.0     0.0   0.0  \n",
       "5228445_15769_1_X840321       0.0      0.0     0.0      0.0     0.0   0.0  \n",
       "5228445_15769_1_X840298       0.0      0.0     0.0      0.0     0.0   0.0  \n",
       "5228445_15769_2_X840319       0.0      0.0     0.0      0.0     0.0   0.0  \n",
       "\n",
       "[4 rows x 24710 columns]"
      ]
     },
     "execution_count": 37,
     "metadata": {},
     "output_type": "execute_result"
    }
   ],
   "source": [
    "tfidf_scores.head(4)"
   ]
  },
  {
   "cell_type": "markdown",
   "metadata": {},
   "source": [
    "#### Sanity check that the indices have been reassigned correctly"
   ]
  },
  {
   "cell_type": "code",
   "execution_count": 48,
   "metadata": {},
   "outputs": [
    {
     "data": {
      "text/plain": [
       "allow          0.226158\n",
       "assignment     0.370186\n",
       "believe        0.269053\n",
       "beneficial     0.192283\n",
       "detailed       0.294254\n",
       "feedback       0.332674\n",
       "improve        0.212100\n",
       "performance    0.361900\n",
       "quality        0.273516\n",
       "subsequent     0.483761\n",
       "think          0.142837\n",
       "Name: 5228445_15769_1_X840307, dtype: Sparse[float64, 0]"
      ]
     },
     "metadata": {},
     "output_type": "display_data"
    },
    {
     "data": {
      "text/plain": [
       "[['assignment',\n",
       "  'detailed',\n",
       "  'feedback',\n",
       "  'believe',\n",
       "  'allow',\n",
       "  'improve',\n",
       "  'performance',\n",
       "  'subsequent',\n",
       "  'assignment',\n",
       "  'think',\n",
       "  'beneficial',\n",
       "  'quality',\n",
       "  'feedback',\n",
       "  'assignment']]"
      ]
     },
     "metadata": {},
     "output_type": "display_data"
    }
   ],
   "source": [
    "display(tfidf_scores.iloc[0][tfidf_scores.iloc[0]>0]) # Tf-IDF words and score\n",
    "display(texts.iloc[0].tolist()) # Original terms from text"
   ]
  },
  {
   "cell_type": "markdown",
   "metadata": {},
   "source": [
    "# Defining the subset of interest and looking at results"
   ]
  },
  {
   "cell_type": "markdown",
   "metadata": {},
   "source": [
    "### Look at question codes and question categories"
   ]
  },
  {
   "cell_type": "code",
   "execution_count": 39,
   "metadata": {},
   "outputs": [],
   "source": [
    "filter_col = \"question_ID\" # Column that distinguishes the subset of interest from the rest\n",
    "#verbose_filter_col = \"question_text\" # A column that does the same, but in readable detail. Optional."
   ]
  },
  {
   "cell_type": "code",
   "execution_count": 40,
   "metadata": {},
   "outputs": [],
   "source": [
    "#raw_data[[filter_col,verbose_filter_col]].drop_duplicates().style.hide_index()"
   ]
  },
  {
   "cell_type": "markdown",
   "metadata": {},
   "source": [
    "### Define the subset I am interested in"
   ]
  },
  {
   "cell_type": "code",
   "execution_count": 41,
   "metadata": {},
   "outputs": [],
   "source": [
    "#filter_vals = ['X840315', 'X840302'] # Inclusiveness Questions\n",
    "filter_vals = ['X840314', 'X840327'] # Accessibility Questions\n",
    "#filter_vals = ['X840303','X840316'] # Support Questions"
   ]
  },
  {
   "cell_type": "code",
   "execution_count": 42,
   "metadata": {},
   "outputs": [
    {
     "name": "stdout",
     "output_type": "stream",
     "text": [
      "Number of responses in subset of interest:\t 3332\n"
     ]
    }
   ],
   "source": [
    "filtered_scores = tfidf_scores[raw_data[filter_col].isin(filter_vals)] # Scores from the subset of interest\n",
    "print(\"Number of responses in subset of interest:\\t\",len(filtered_scores))"
   ]
  },
  {
   "cell_type": "markdown",
   "metadata": {},
   "source": [
    "### Fast Viewer which removes words popular over the whole corpus including those from the desired category"
   ]
  },
  {
   "cell_type": "code",
   "execution_count": 43,
   "metadata": {},
   "outputs": [
    {
     "data": {
      "application/vnd.jupyter.widget-view+json": {
       "model_id": "edba767353594f9cb1a5997cbfbcd9fe",
       "version_major": 2,
       "version_minor": 0
      },
      "text/plain": [
       "interactive(children=(Dropdown(description='num_words', index=2, options=(5, 20, 40, 60, 100, 1000, 10000), va…"
      ]
     },
     "metadata": {},
     "output_type": "display_data"
    }
   ],
   "source": [
    "top_words_filtered1 = pd.DataFrame(filtered_scores.mean().sort_values(ascending = False), columns = [\"tf-idf\"])\n",
    "top_words_all1 = pd.DataFrame(tfidf_scores.mean().sort_values(ascending = False),columns=[\"tf-idf\"])\n",
    "@interact(num_words = [5,20,40,60,100,1000,10000],remove_n = [0,5,20,50,100,200,1000])\n",
    "def disp_top_words_filtered(num_words = 40, remove_n = 100, display_as_str = False):\n",
    "    words_to_drop = top_words_all1.index.to_list()[:remove_n] # Select which words to remove\n",
    "    display_html(f\"<b>Top words in average tf-idf (not in the top {remove_n} for all data), where {filter_col} has values in {filter_vals}\",raw = True)\n",
    "    top_words = top_words_filtered1.drop(index = words_to_drop)\n",
    "    display_head_wide(top_words,num=num_words, cols= 5)\n",
    "    if display_as_str:\n",
    "        display_html(\" \".join(top_words.index[:num_words]),raw = True)"
   ]
  },
  {
   "cell_type": "markdown",
   "metadata": {},
   "source": [
    "### Viewer which only removes words that are popular in responses not in the desired category (slightly more correct but slower by a lot)"
   ]
  },
  {
   "cell_type": "code",
   "execution_count": 44,
   "metadata": {},
   "outputs": [
    {
     "data": {
      "application/vnd.jupyter.widget-view+json": {
       "model_id": "b6f8659a64b14f059dfa86106c3ae7c1",
       "version_major": 2,
       "version_minor": 0
      },
      "text/plain": [
       "interactive(children=(Dropdown(description='num_words', index=2, options=(5, 20, 40, 60, 100, 1000, 10000), va…"
      ]
     },
     "metadata": {},
     "output_type": "display_data"
    }
   ],
   "source": [
    "complement_scores = tfidf_scores[~raw_data[filter_col].isin(filter_vals)] # All other documents from the corpus. Getting parts of a sparse matrix efficiently is weird.\n",
    "top_words_filtered = pd.DataFrame(filtered_scores.mean().sort_values(ascending = False), columns = [\"tf-idf\"])\n",
    "top_words_complement = pd.DataFrame(complement_scores.mean().sort_values(ascending = False),columns=[\"tf-idf\"])\n",
    "@interact(num_words = [5,20,40,60,100,1000,10000],remove_n = [0,5,20,50,100,200,1000])\n",
    "def disp_top_words_filtered(num_words = 40, remove_n = 100, display_as_str = False):\n",
    "    words_to_drop = top_words_complement.index.to_list()[:remove_n] # Select which words to remove\n",
    "    display_html(f\"<b>Top words in average tf-idf (not in the top {remove_n} for all data in the complement), where {filter_col} has values in {filter_vals}\",raw = True)\n",
    "    top_words = top_words_filtered.drop(index = words_to_drop)\n",
    "    display_head_wide(top_words,num=num_words, cols= 5)\n",
    "    if display_as_str:\n",
    "        display_html(\", \".join(top_words.index[:num_words]),raw = True)"
   ]
  }
 ],
 "metadata": {
  "interpreter": {
   "hash": "17c92ebe4c347de728263208104da506711e9388d419f2667b4726047bdcfa3c"
  },
  "kernelspec": {
   "display_name": "Python 3.8.1 64-bit ('azureml_py38': conda)",
   "name": "python3"
  },
  "language_info": {
   "codemirror_mode": {
    "name": "ipython",
    "version": 3
   },
   "file_extension": ".py",
   "mimetype": "text/x-python",
   "name": "python",
   "nbconvert_exporter": "python",
   "pygments_lexer": "ipython3",
   "version": "3.8.1"
  },
  "orig_nbformat": 4
 },
 "nbformat": 4,
 "nbformat_minor": 2
}
