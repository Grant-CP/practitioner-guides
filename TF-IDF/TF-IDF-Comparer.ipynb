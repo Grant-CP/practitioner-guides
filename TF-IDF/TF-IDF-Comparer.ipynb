{
 "cells": [
  {
   "cell_type": "markdown",
   "metadata": {},
   "source": [
    "# Function of Notebook"
   ]
  },
  {
   "cell_type": "markdown",
   "metadata": {},
   "source": [
    "This notebook attempts to identify words that are unique and relevant to a subset of a textual dataset using term frequency - inverse document frequency (tf-idf). The idea is to create a very easy to interpret visualization of what people are talking about in a particular subset of the given text responses. We use this tool both as a sanity check for more advanced topic modeling and as a safe way to get quick initial results.\n",
    "\n",
    "The correct interpretation of results is:\n",
    "- The words shown are non-generic words commonly used in the subset of interest, but not commonly used in the entire textual dataset"
   ]
  },
  {
   "cell_type": "markdown",
   "metadata": {},
   "source": [
    "## How to use"
   ]
  },
  {
   "cell_type": "markdown",
   "metadata": {},
   "source": [
    "It is highly recommended to run the preprocessing notebook on your text before using this notebook as tf-idf assumes a very naive model of language use. \n",
    "\n",
    "The user will need edit the information in the data section to identify where the data lives on their computer and where in the data the textual information lives. Additionally, a column which describes the subset of the data to look at is must be specified in the \"looking at results\" section. For example, with a gender column, one might set 'acceptable_values' to ['F'] in order to look at interesting words used commonly by women but not men."
   ]
  },
  {
   "cell_type": "markdown",
   "metadata": {},
   "source": [
    "## Quick Links"
   ]
  },
  {
   "cell_type": "markdown",
   "metadata": {},
   "source": [
    "[Click here to jump to data imports](#libraries)\n",
    "\n",
    "[Click here to jump to Results and Subset selection](#looking-at-results)"
   ]
  },
  {
   "cell_type": "markdown",
   "metadata": {},
   "source": [
    "# Imports"
   ]
  },
  {
   "cell_type": "markdown",
   "metadata": {},
   "source": [
    "## Libraries"
   ]
  },
  {
   "cell_type": "code",
   "execution_count": 1,
   "metadata": {},
   "outputs": [],
   "source": [
    "import pandas as pd\n",
    "import numpy as np"
   ]
  },
  {
   "cell_type": "code",
   "execution_count": 2,
   "metadata": {},
   "outputs": [],
   "source": [
    "from scipy import sparse\n",
    "from itertools import chain"
   ]
  },
  {
   "cell_type": "code",
   "execution_count": 3,
   "metadata": {},
   "outputs": [],
   "source": [
    "from IPython.display import display, display_html\n",
    "from ipywidgets import interact"
   ]
  },
  {
   "cell_type": "code",
   "execution_count": 4,
   "metadata": {},
   "outputs": [],
   "source": [
    "from gensim.models import TfidfModel\n",
    "from gensim.corpora import Dictionary"
   ]
  },
  {
   "cell_type": "markdown",
   "metadata": {},
   "source": [
    "## Data"
   ]
  },
  {
   "cell_type": "code",
   "execution_count": 5,
   "metadata": {},
   "outputs": [],
   "source": [
    "index_col = \"unique_comment_ID\"\n",
    "text_col = \"Preprocessed answer\"\n",
    "data_path = \"/home/azureuser/cloudfiles/code/Data/pp-20210830_SES_and_SET.csv\""
   ]
  },
  {
   "cell_type": "code",
   "execution_count": 6,
   "metadata": {},
   "outputs": [],
   "source": [
    "raw_data = pd.read_csv(data_path)\n",
    "raw_data.set_index(index_col, inplace=True)"
   ]
  },
  {
   "cell_type": "code",
   "execution_count": 7,
   "metadata": {},
   "outputs": [],
   "source": [
    "raw_data.dropna(inplace=True)"
   ]
  },
  {
   "cell_type": "code",
   "execution_count": 8,
   "metadata": {},
   "outputs": [],
   "source": [
    "#raw_data = raw_data.query(\"survey == 'SES'\")"
   ]
  },
  {
   "cell_type": "code",
   "execution_count": 9,
   "metadata": {},
   "outputs": [
    {
     "name": "stdout",
     "output_type": "stream",
     "text": [
      "Number of textual responses:\t 296125\n"
     ]
    },
    {
     "data": {
      "text/html": [
       "<div>\n",
       "<style scoped>\n",
       "    .dataframe tbody tr th:only-of-type {\n",
       "        vertical-align: middle;\n",
       "    }\n",
       "\n",
       "    .dataframe tbody tr th {\n",
       "        vertical-align: top;\n",
       "    }\n",
       "\n",
       "    .dataframe thead th {\n",
       "        text-align: right;\n",
       "    }\n",
       "</style>\n",
       "<table border=\"1\" class=\"dataframe\">\n",
       "  <thead>\n",
       "    <tr style=\"text-align: right;\">\n",
       "      <th></th>\n",
       "      <th>answer</th>\n",
       "      <th>Preprocessed answer</th>\n",
       "      <th>survey</th>\n",
       "      <th>question_ID</th>\n",
       "      <th>question_text</th>\n",
       "      <th>question_category</th>\n",
       "    </tr>\n",
       "    <tr>\n",
       "      <th>unique_comment_ID</th>\n",
       "      <th></th>\n",
       "      <th></th>\n",
       "      <th></th>\n",
       "      <th></th>\n",
       "      <th></th>\n",
       "      <th></th>\n",
       "    </tr>\n",
       "  </thead>\n",
       "  <tbody>\n",
       "    <tr>\n",
       "      <th>5228445_15769_1_X840307</th>\n",
       "      <td>On the first assignment, detailed feedback was...</td>\n",
       "      <td>assignment detailed feedback believe allow imp...</td>\n",
       "      <td>SES</td>\n",
       "      <td>X840307</td>\n",
       "      <td>What specific change in the clarity of instruc...</td>\n",
       "      <td>text_improvement</td>\n",
       "    </tr>\n",
       "    <tr>\n",
       "      <th>5228445_15769_1_X840321</th>\n",
       "      <td>Opportunities provided in this course to activ...</td>\n",
       "      <td>opportunity provide course actively engage dif...</td>\n",
       "      <td>SES</td>\n",
       "      <td>X840321</td>\n",
       "      <td>What specifically about the use of active lear...</td>\n",
       "      <td>text_beneficial</td>\n",
       "    </tr>\n",
       "    <tr>\n",
       "      <th>5228445_15769_1_X840298</th>\n",
       "      <td>I get frequent migraines and am trying to keep...</td>\n",
       "      <td>frequent migraine try plate air commute salem ...</td>\n",
       "      <td>SES</td>\n",
       "      <td>X840298</td>\n",
       "      <td>Why did you attend class 75-90% of the time?</td>\n",
       "      <td>attendance</td>\n",
       "    </tr>\n",
       "    <tr>\n",
       "      <th>5228445_15769_2_X840319</th>\n",
       "      <td>like the breadth and variety of topics relevan...</td>\n",
       "      <td>like breadth variety topic relevant provide co...</td>\n",
       "      <td>SES</td>\n",
       "      <td>X840319</td>\n",
       "      <td>What specifically about the quality of course ...</td>\n",
       "      <td>text_beneficial</td>\n",
       "    </tr>\n",
       "    <tr>\n",
       "      <th>5228445_15769_2_X840296</th>\n",
       "      <td>Have more class time for learning about UO lib...</td>\n",
       "      <td>class time learn uo library link directly fina...</td>\n",
       "      <td>SES</td>\n",
       "      <td>X840296</td>\n",
       "      <td>What else would you like to say about your lea...</td>\n",
       "      <td>open_final</td>\n",
       "    </tr>\n",
       "  </tbody>\n",
       "</table>\n",
       "</div>"
      ],
      "text/plain": [
       "                                                                    answer  \\\n",
       "unique_comment_ID                                                            \n",
       "5228445_15769_1_X840307  On the first assignment, detailed feedback was...   \n",
       "5228445_15769_1_X840321  Opportunities provided in this course to activ...   \n",
       "5228445_15769_1_X840298  I get frequent migraines and am trying to keep...   \n",
       "5228445_15769_2_X840319  like the breadth and variety of topics relevan...   \n",
       "5228445_15769_2_X840296  Have more class time for learning about UO lib...   \n",
       "\n",
       "                                                       Preprocessed answer  \\\n",
       "unique_comment_ID                                                            \n",
       "5228445_15769_1_X840307  assignment detailed feedback believe allow imp...   \n",
       "5228445_15769_1_X840321  opportunity provide course actively engage dif...   \n",
       "5228445_15769_1_X840298  frequent migraine try plate air commute salem ...   \n",
       "5228445_15769_2_X840319  like breadth variety topic relevant provide co...   \n",
       "5228445_15769_2_X840296  class time learn uo library link directly fina...   \n",
       "\n",
       "                        survey question_ID  \\\n",
       "unique_comment_ID                            \n",
       "5228445_15769_1_X840307    SES     X840307   \n",
       "5228445_15769_1_X840321    SES     X840321   \n",
       "5228445_15769_1_X840298    SES     X840298   \n",
       "5228445_15769_2_X840319    SES     X840319   \n",
       "5228445_15769_2_X840296    SES     X840296   \n",
       "\n",
       "                                                             question_text  \\\n",
       "unique_comment_ID                                                            \n",
       "5228445_15769_1_X840307  What specific change in the clarity of instruc...   \n",
       "5228445_15769_1_X840321  What specifically about the use of active lear...   \n",
       "5228445_15769_1_X840298       Why did you attend class 75-90% of the time?   \n",
       "5228445_15769_2_X840319  What specifically about the quality of course ...   \n",
       "5228445_15769_2_X840296  What else would you like to say about your lea...   \n",
       "\n",
       "                        question_category  \n",
       "unique_comment_ID                          \n",
       "5228445_15769_1_X840307  text_improvement  \n",
       "5228445_15769_1_X840321   text_beneficial  \n",
       "5228445_15769_1_X840298        attendance  \n",
       "5228445_15769_2_X840319   text_beneficial  \n",
       "5228445_15769_2_X840296        open_final  "
      ]
     },
     "execution_count": 9,
     "metadata": {},
     "output_type": "execute_result"
    }
   ],
   "source": [
    "print(\"Number of textual responses:\\t\",len(raw_data))\n",
    "raw_data.head()"
   ]
  },
  {
   "cell_type": "markdown",
   "metadata": {},
   "source": [
    "### Add metadata"
   ]
  },
  {
   "cell_type": "markdown",
   "metadata": {},
   "source": [
    "Metadata in this context is a secondary dataset to be joined on index with primary textual data. Useful if the text is kept separate from other identifying characteristics."
   ]
  },
  {
   "cell_type": "code",
   "execution_count": 10,
   "metadata": {},
   "outputs": [],
   "source": [
    "# metadata_path = \"/home/azureuser/cloudfiles/code/Data/pp-20210625_SES_and_SET_comments.csv\"\n",
    "# metadata = pd.read_csv(\n",
    "#     metadata_path,\n",
    "#     usecols= [index_col,\"question_ID\",\"survey\",\"question_text\"]\n",
    "#     )\n",
    "# metadata.set_index(index_col, inplace=True)"
   ]
  },
  {
   "cell_type": "code",
   "execution_count": 11,
   "metadata": {},
   "outputs": [],
   "source": [
    "# raw_data = raw_data.join(metadata)"
   ]
  },
  {
   "cell_type": "markdown",
   "metadata": {},
   "source": [
    "### Tokenize Documents"
   ]
  },
  {
   "cell_type": "code",
   "execution_count": 12,
   "metadata": {},
   "outputs": [
    {
     "data": {
      "text/html": [
       "<div>\n",
       "<style scoped>\n",
       "    .dataframe tbody tr th:only-of-type {\n",
       "        vertical-align: middle;\n",
       "    }\n",
       "\n",
       "    .dataframe tbody tr th {\n",
       "        vertical-align: top;\n",
       "    }\n",
       "\n",
       "    .dataframe thead th {\n",
       "        text-align: right;\n",
       "    }\n",
       "</style>\n",
       "<table border=\"1\" class=\"dataframe\">\n",
       "  <thead>\n",
       "    <tr style=\"text-align: right;\">\n",
       "      <th></th>\n",
       "      <th>Preprocessed answer</th>\n",
       "    </tr>\n",
       "    <tr>\n",
       "      <th>unique_comment_ID</th>\n",
       "      <th></th>\n",
       "    </tr>\n",
       "  </thead>\n",
       "  <tbody>\n",
       "    <tr>\n",
       "      <th>5228445_15769_1_X840307</th>\n",
       "      <td>[assignment, detailed, feedback, believe, allo...</td>\n",
       "    </tr>\n",
       "    <tr>\n",
       "      <th>5228445_15769_1_X840321</th>\n",
       "      <td>[opportunity, provide, course, actively, engag...</td>\n",
       "    </tr>\n",
       "    <tr>\n",
       "      <th>5228445_15769_1_X840298</th>\n",
       "      <td>[frequent, migraine, try, plate, air, commute,...</td>\n",
       "    </tr>\n",
       "    <tr>\n",
       "      <th>5228445_15769_2_X840319</th>\n",
       "      <td>[like, breadth, variety, topic, relevant, prov...</td>\n",
       "    </tr>\n",
       "    <tr>\n",
       "      <th>5228445_15769_2_X840296</th>\n",
       "      <td>[class, time, learn, uo, library, link, direct...</td>\n",
       "    </tr>\n",
       "  </tbody>\n",
       "</table>\n",
       "</div>"
      ],
      "text/plain": [
       "                                                       Preprocessed answer\n",
       "unique_comment_ID                                                         \n",
       "5228445_15769_1_X840307  [assignment, detailed, feedback, believe, allo...\n",
       "5228445_15769_1_X840321  [opportunity, provide, course, actively, engag...\n",
       "5228445_15769_1_X840298  [frequent, migraine, try, plate, air, commute,...\n",
       "5228445_15769_2_X840319  [like, breadth, variety, topic, relevant, prov...\n",
       "5228445_15769_2_X840296  [class, time, learn, uo, library, link, direct..."
      ]
     },
     "execution_count": 12,
     "metadata": {},
     "output_type": "execute_result"
    }
   ],
   "source": [
    "texts = raw_data[[text_col]].applymap(str.split)\n",
    "texts.head(5)"
   ]
  },
  {
   "cell_type": "markdown",
   "metadata": {},
   "source": [
    "### Generate Dictionary"
   ]
  },
  {
   "cell_type": "code",
   "execution_count": 13,
   "metadata": {},
   "outputs": [],
   "source": [
    "dictionary = Dictionary(texts[text_col])"
   ]
  },
  {
   "cell_type": "markdown",
   "metadata": {},
   "source": [
    "### Convert Tokenized text to Tokenized IDs"
   ]
  },
  {
   "cell_type": "code",
   "execution_count": 14,
   "metadata": {},
   "outputs": [],
   "source": [
    "corpus = texts.applymap(dictionary.doc2bow)"
   ]
  },
  {
   "cell_type": "code",
   "execution_count": 15,
   "metadata": {},
   "outputs": [
    {
     "data": {
      "text/html": [
       "<div>\n",
       "<style scoped>\n",
       "    .dataframe tbody tr th:only-of-type {\n",
       "        vertical-align: middle;\n",
       "    }\n",
       "\n",
       "    .dataframe tbody tr th {\n",
       "        vertical-align: top;\n",
       "    }\n",
       "\n",
       "    .dataframe thead th {\n",
       "        text-align: right;\n",
       "    }\n",
       "</style>\n",
       "<table border=\"1\" class=\"dataframe\">\n",
       "  <thead>\n",
       "    <tr style=\"text-align: right;\">\n",
       "      <th></th>\n",
       "      <th>Preprocessed answer</th>\n",
       "    </tr>\n",
       "    <tr>\n",
       "      <th>unique_comment_ID</th>\n",
       "      <th></th>\n",
       "    </tr>\n",
       "  </thead>\n",
       "  <tbody>\n",
       "    <tr>\n",
       "      <th>5228445_15769_1_X840307</th>\n",
       "      <td>[(0, 1), (1, 3), (2, 1), (3, 1), (4, 1), (5, 2...</td>\n",
       "    </tr>\n",
       "    <tr>\n",
       "      <th>5228445_15769_1_X840321</th>\n",
       "      <td>[(11, 1), (12, 1), (13, 1), (14, 1), (15, 1), ...</td>\n",
       "    </tr>\n",
       "    <tr>\n",
       "      <th>5228445_15769_1_X840298</th>\n",
       "      <td>[(8, 1), (15, 1), (16, 1), (20, 1), (34, 1), (...</td>\n",
       "    </tr>\n",
       "    <tr>\n",
       "      <th>5228445_15769_2_X840319</th>\n",
       "      <td>[(29, 1), (51, 1), (52, 1), (53, 1), (54, 1), ...</td>\n",
       "    </tr>\n",
       "    <tr>\n",
       "      <th>5228445_15769_2_X840296</th>\n",
       "      <td>[(58, 1), (60, 1), (61, 1), (62, 1), (63, 1), ...</td>\n",
       "    </tr>\n",
       "  </tbody>\n",
       "</table>\n",
       "</div>"
      ],
      "text/plain": [
       "                                                       Preprocessed answer\n",
       "unique_comment_ID                                                         \n",
       "5228445_15769_1_X840307  [(0, 1), (1, 3), (2, 1), (3, 1), (4, 1), (5, 2...\n",
       "5228445_15769_1_X840321  [(11, 1), (12, 1), (13, 1), (14, 1), (15, 1), ...\n",
       "5228445_15769_1_X840298  [(8, 1), (15, 1), (16, 1), (20, 1), (34, 1), (...\n",
       "5228445_15769_2_X840319  [(29, 1), (51, 1), (52, 1), (53, 1), (54, 1), ...\n",
       "5228445_15769_2_X840296  [(58, 1), (60, 1), (61, 1), (62, 1), (63, 1), ..."
      ]
     },
     "execution_count": 15,
     "metadata": {},
     "output_type": "execute_result"
    }
   ],
   "source": [
    "corpus.head(5)"
   ]
  },
  {
   "cell_type": "markdown",
   "metadata": {},
   "source": [
    "# Helper Functions"
   ]
  },
  {
   "cell_type": "code",
   "execution_count": 34,
   "metadata": {},
   "outputs": [],
   "source": [
    "def display_side_by_side(*args):\n",
    "    html_str=''\n",
    "    for df in args:\n",
    "        html_str+=df.to_html() + (\"\\xa0\" * 5) # Spaces\n",
    "    display_html(html_str.replace('<table','<table style=\"display:inline\"'),raw=True)"
   ]
  },
  {
   "cell_type": "code",
   "execution_count": 17,
   "metadata": {},
   "outputs": [],
   "source": [
    "def display_head_wide(df,num = 40,cols = 5):\n",
    "    num = min(num,len(df)) # Just in case num is specified to be larger than the number of entires in df\n",
    "    per_col = int(np.ceil(num/cols)) # Figure out how many to show per column\n",
    "    display_side_by_side(*[df.iloc[x: x + per_col] for x in range(0,num,per_col)]) # Display the columns. *[] used to partition the dataframe"
   ]
  },
  {
   "cell_type": "markdown",
   "metadata": {},
   "source": [
    "# Calculate TF-IDF Scores"
   ]
  },
  {
   "cell_type": "markdown",
   "metadata": {},
   "source": [
    "## Define and test function to map"
   ]
  },
  {
   "cell_type": "markdown",
   "metadata": {},
   "source": [
    "### Intialize tf-idf model"
   ]
  },
  {
   "cell_type": "code",
   "execution_count": 18,
   "metadata": {},
   "outputs": [],
   "source": [
    "# I have to convert to single column then list because they have a line in the tfidf code\n",
    "# That says elif \"corpus\" and pd thinks it is special so unlike everything else that\n",
    "# returns true, this returns an error\n",
    "tfidf = TfidfModel(corpus = corpus[text_col].tolist(),id2word = dictionary)"
   ]
  },
  {
   "cell_type": "code",
   "execution_count": 19,
   "metadata": {},
   "outputs": [],
   "source": [
    "transformed_corpus = tfidf[corpus[text_col]]"
   ]
  },
  {
   "cell_type": "markdown",
   "metadata": {},
   "source": [
    "### Create a sparse dataframe where each row is a document, and each column is a word, and each entry is a tf-idf score"
   ]
  },
  {
   "cell_type": "markdown",
   "metadata": {},
   "source": [
    "The sparse matrix implementation is necessary if we want to keep the entirity of the tf-idf calculations in memory and have it easily accessible for computation. There is room for a better implementation in the future. "
   ]
  },
  {
   "cell_type": "markdown",
   "metadata": {},
   "source": [
    "#### Calculate the tf-idf scores and format them"
   ]
  },
  {
   "cell_type": "code",
   "execution_count": 20,
   "metadata": {},
   "outputs": [],
   "source": [
    "# Create a dataframe where each word in each doc has a row saying its doc number, word id, and tfidf score\n",
    "i = 0 # Initize a new document index to use for sparse matrix specification\n",
    "result_corpus = []\n",
    "for doc in transformed_corpus:\n",
    "    new_doc = list(map(lambda tup: (i,) + tup,doc)) # Add doc idx to the tuple given by the tfidf model\n",
    "    result_corpus.append(new_doc) # Add it to the correctly formatted corpus\n",
    "    i+=1\n",
    "tfidf_indices = pd.DataFrame(chain(*result_corpus)) # Flatten out the list so each word has an entry as opposed to each document"
   ]
  },
  {
   "cell_type": "markdown",
   "metadata": {},
   "source": [
    "#### Put the formatted scores into a sparse matrix"
   ]
  },
  {
   "cell_type": "code",
   "execution_count": 21,
   "metadata": {},
   "outputs": [],
   "source": [
    "[i,j,data] = tfidf_indices.T.to_numpy() # Convert our rows to lists of indices to the sparse matrix creation\n",
    "i = i.astype(int) # Convert rows to int. For some reason pandas transpose ruins datatypes\n",
    "j = j.astype(int) # Convert cols to int\n",
    "tfidf_sparse = sparse.coo_matrix((data,(i,j)))"
   ]
  },
  {
   "cell_type": "markdown",
   "metadata": {},
   "source": [
    "#### Convert sparse matrix to dataframe and name indices"
   ]
  },
  {
   "cell_type": "code",
   "execution_count": 22,
   "metadata": {},
   "outputs": [],
   "source": [
    "tfidf_scores = pd.DataFrame.sparse.from_spmatrix(tfidf_sparse)\n",
    "tfidf_scores.index = corpus.index\n",
    "tfidf_scores.rename(columns = dictionary,inplace = True)"
   ]
  },
  {
   "cell_type": "markdown",
   "metadata": {},
   "source": [
    "#### Examine the created dataframe"
   ]
  },
  {
   "cell_type": "code",
   "execution_count": 23,
   "metadata": {},
   "outputs": [
    {
     "data": {
      "text/html": [
       "<div>\n",
       "<style scoped>\n",
       "    .dataframe tbody tr th:only-of-type {\n",
       "        vertical-align: middle;\n",
       "    }\n",
       "\n",
       "    .dataframe tbody tr th {\n",
       "        vertical-align: top;\n",
       "    }\n",
       "\n",
       "    .dataframe thead th {\n",
       "        text-align: right;\n",
       "    }\n",
       "</style>\n",
       "<table border=\"1\" class=\"dataframe\">\n",
       "  <thead>\n",
       "    <tr style=\"text-align: right;\">\n",
       "      <th></th>\n",
       "      <th>allow</th>\n",
       "      <th>assignment</th>\n",
       "      <th>believe</th>\n",
       "      <th>beneficial</th>\n",
       "      <th>detailed</th>\n",
       "      <th>feedback</th>\n",
       "      <th>improve</th>\n",
       "      <th>performance</th>\n",
       "      <th>quality</th>\n",
       "      <th>subsequent</th>\n",
       "      <th>...</th>\n",
       "      <th>explanitory</th>\n",
       "      <th>douglas</th>\n",
       "      <th>historical/</th>\n",
       "      <th>musing</th>\n",
       "      <th>colorado</th>\n",
       "      <th>tipping</th>\n",
       "      <th>warned</th>\n",
       "      <th>clarife</th>\n",
       "      <th>medley</th>\n",
       "      <th>jibe</th>\n",
       "    </tr>\n",
       "    <tr>\n",
       "      <th>unique_comment_ID</th>\n",
       "      <th></th>\n",
       "      <th></th>\n",
       "      <th></th>\n",
       "      <th></th>\n",
       "      <th></th>\n",
       "      <th></th>\n",
       "      <th></th>\n",
       "      <th></th>\n",
       "      <th></th>\n",
       "      <th></th>\n",
       "      <th></th>\n",
       "      <th></th>\n",
       "      <th></th>\n",
       "      <th></th>\n",
       "      <th></th>\n",
       "      <th></th>\n",
       "      <th></th>\n",
       "      <th></th>\n",
       "      <th></th>\n",
       "      <th></th>\n",
       "      <th></th>\n",
       "    </tr>\n",
       "  </thead>\n",
       "  <tbody>\n",
       "    <tr>\n",
       "      <th>5228445_15769_1_X840307</th>\n",
       "      <td>0.226158</td>\n",
       "      <td>0.370186</td>\n",
       "      <td>0.269053</td>\n",
       "      <td>0.192283</td>\n",
       "      <td>0.294254</td>\n",
       "      <td>0.332674</td>\n",
       "      <td>0.2121</td>\n",
       "      <td>0.3619</td>\n",
       "      <td>0.273516</td>\n",
       "      <td>0.483761</td>\n",
       "      <td>...</td>\n",
       "      <td>0.0</td>\n",
       "      <td>0.0</td>\n",
       "      <td>0.0</td>\n",
       "      <td>0.0</td>\n",
       "      <td>0.0</td>\n",
       "      <td>0.0</td>\n",
       "      <td>0.0</td>\n",
       "      <td>0.0</td>\n",
       "      <td>0.0</td>\n",
       "      <td>0.0</td>\n",
       "    </tr>\n",
       "    <tr>\n",
       "      <th>5228445_15769_1_X840321</th>\n",
       "      <td>0.000000</td>\n",
       "      <td>0.000000</td>\n",
       "      <td>0.000000</td>\n",
       "      <td>0.000000</td>\n",
       "      <td>0.000000</td>\n",
       "      <td>0.000000</td>\n",
       "      <td>0.0000</td>\n",
       "      <td>0.0000</td>\n",
       "      <td>0.000000</td>\n",
       "      <td>0.000000</td>\n",
       "      <td>...</td>\n",
       "      <td>0.0</td>\n",
       "      <td>0.0</td>\n",
       "      <td>0.0</td>\n",
       "      <td>0.0</td>\n",
       "      <td>0.0</td>\n",
       "      <td>0.0</td>\n",
       "      <td>0.0</td>\n",
       "      <td>0.0</td>\n",
       "      <td>0.0</td>\n",
       "      <td>0.0</td>\n",
       "    </tr>\n",
       "    <tr>\n",
       "      <th>5228445_15769_1_X840298</th>\n",
       "      <td>0.000000</td>\n",
       "      <td>0.000000</td>\n",
       "      <td>0.000000</td>\n",
       "      <td>0.000000</td>\n",
       "      <td>0.000000</td>\n",
       "      <td>0.000000</td>\n",
       "      <td>0.0000</td>\n",
       "      <td>0.0000</td>\n",
       "      <td>0.171679</td>\n",
       "      <td>0.000000</td>\n",
       "      <td>...</td>\n",
       "      <td>0.0</td>\n",
       "      <td>0.0</td>\n",
       "      <td>0.0</td>\n",
       "      <td>0.0</td>\n",
       "      <td>0.0</td>\n",
       "      <td>0.0</td>\n",
       "      <td>0.0</td>\n",
       "      <td>0.0</td>\n",
       "      <td>0.0</td>\n",
       "      <td>0.0</td>\n",
       "    </tr>\n",
       "    <tr>\n",
       "      <th>5228445_15769_2_X840319</th>\n",
       "      <td>0.000000</td>\n",
       "      <td>0.000000</td>\n",
       "      <td>0.000000</td>\n",
       "      <td>0.000000</td>\n",
       "      <td>0.000000</td>\n",
       "      <td>0.000000</td>\n",
       "      <td>0.0000</td>\n",
       "      <td>0.0000</td>\n",
       "      <td>0.000000</td>\n",
       "      <td>0.000000</td>\n",
       "      <td>...</td>\n",
       "      <td>0.0</td>\n",
       "      <td>0.0</td>\n",
       "      <td>0.0</td>\n",
       "      <td>0.0</td>\n",
       "      <td>0.0</td>\n",
       "      <td>0.0</td>\n",
       "      <td>0.0</td>\n",
       "      <td>0.0</td>\n",
       "      <td>0.0</td>\n",
       "      <td>0.0</td>\n",
       "    </tr>\n",
       "  </tbody>\n",
       "</table>\n",
       "<p>4 rows × 24710 columns</p>\n",
       "</div>"
      ],
      "text/plain": [
       "                            allow  assignment   believe  beneficial  detailed  \\\n",
       "unique_comment_ID                                                               \n",
       "5228445_15769_1_X840307  0.226158    0.370186  0.269053    0.192283  0.294254   \n",
       "5228445_15769_1_X840321  0.000000    0.000000  0.000000    0.000000  0.000000   \n",
       "5228445_15769_1_X840298  0.000000    0.000000  0.000000    0.000000  0.000000   \n",
       "5228445_15769_2_X840319  0.000000    0.000000  0.000000    0.000000  0.000000   \n",
       "\n",
       "                         feedback  improve  performance   quality  subsequent  \\\n",
       "unique_comment_ID                                                               \n",
       "5228445_15769_1_X840307  0.332674   0.2121       0.3619  0.273516    0.483761   \n",
       "5228445_15769_1_X840321  0.000000   0.0000       0.0000  0.000000    0.000000   \n",
       "5228445_15769_1_X840298  0.000000   0.0000       0.0000  0.171679    0.000000   \n",
       "5228445_15769_2_X840319  0.000000   0.0000       0.0000  0.000000    0.000000   \n",
       "\n",
       "                         ...  explanitory  douglas  historical/  musing  \\\n",
       "unique_comment_ID        ...                                              \n",
       "5228445_15769_1_X840307  ...          0.0      0.0          0.0     0.0   \n",
       "5228445_15769_1_X840321  ...          0.0      0.0          0.0     0.0   \n",
       "5228445_15769_1_X840298  ...          0.0      0.0          0.0     0.0   \n",
       "5228445_15769_2_X840319  ...          0.0      0.0          0.0     0.0   \n",
       "\n",
       "                         colorado  tipping  warned  clarife  medley  jibe  \n",
       "unique_comment_ID                                                          \n",
       "5228445_15769_1_X840307       0.0      0.0     0.0      0.0     0.0   0.0  \n",
       "5228445_15769_1_X840321       0.0      0.0     0.0      0.0     0.0   0.0  \n",
       "5228445_15769_1_X840298       0.0      0.0     0.0      0.0     0.0   0.0  \n",
       "5228445_15769_2_X840319       0.0      0.0     0.0      0.0     0.0   0.0  \n",
       "\n",
       "[4 rows x 24710 columns]"
      ]
     },
     "execution_count": 23,
     "metadata": {},
     "output_type": "execute_result"
    }
   ],
   "source": [
    "tfidf_scores.head(4)"
   ]
  },
  {
   "cell_type": "markdown",
   "metadata": {},
   "source": [
    "#### Sanity check that the indices have been reassigned correctly"
   ]
  },
  {
   "cell_type": "code",
   "execution_count": 24,
   "metadata": {},
   "outputs": [
    {
     "data": {
      "text/plain": [
       "assignment    0.323452\n",
       "feedback      0.436013\n",
       "professor     0.410875\n",
       "turn          0.732429\n",
       "Name: 6663782_15793_11_X840304, dtype: Sparse[float64, 0]"
      ]
     },
     "metadata": {},
     "output_type": "display_data"
    },
    {
     "data": {
      "text/plain": [
       "Preprocessed answer    [feedback, professor, assignment, turn]\n",
       "Name: 6663782_15793_11_X840304, dtype: object"
      ]
     },
     "metadata": {},
     "output_type": "display_data"
    }
   ],
   "source": [
    "display(tfidf_scores.iloc[30][tfidf_scores.iloc[30]>0]) # Tf-IDF words and score\n",
    "display(texts.iloc[30]) # Original text"
   ]
  },
  {
   "cell_type": "markdown",
   "metadata": {},
   "source": [
    "# Looking at results"
   ]
  },
  {
   "cell_type": "markdown",
   "metadata": {},
   "source": [
    "### Look at question codes and question categories"
   ]
  },
  {
   "cell_type": "code",
   "execution_count": 25,
   "metadata": {},
   "outputs": [],
   "source": [
    "filter_col = \"question_ID\"\n",
    "verbose_filter_col = \"question_text\""
   ]
  },
  {
   "cell_type": "code",
   "execution_count": 26,
   "metadata": {},
   "outputs": [
    {
     "data": {
      "text/html": [
       "<style  type=\"text/css\" >\n",
       "</style><table id=\"T_665bb_\" ><thead>    <tr>        <th class=\"col_heading level0 col0\" >question_ID</th>        <th class=\"col_heading level0 col1\" >question_text</th>    </tr></thead><tbody>\n",
       "                <tr>\n",
       "                                <td id=\"T_665bb_row0_col0\" class=\"data row0 col0\" >X840307</td>\n",
       "                        <td id=\"T_665bb_row0_col1\" class=\"data row0 col1\" >What specific change in the clarity of instructions would help your learning?</td>\n",
       "            </tr>\n",
       "            <tr>\n",
       "                                <td id=\"T_665bb_row1_col0\" class=\"data row1 col0\" >X840321</td>\n",
       "                        <td id=\"T_665bb_row1_col1\" class=\"data row1 col1\" >What specifically about the use of active learning helped your learning?</td>\n",
       "            </tr>\n",
       "            <tr>\n",
       "                                <td id=\"T_665bb_row2_col0\" class=\"data row2 col0\" >X840298</td>\n",
       "                        <td id=\"T_665bb_row2_col1\" class=\"data row2 col1\" >Why did you attend class 75-90% of the time?</td>\n",
       "            </tr>\n",
       "            <tr>\n",
       "                                <td id=\"T_665bb_row3_col0\" class=\"data row3 col0\" >X840319</td>\n",
       "                        <td id=\"T_665bb_row3_col1\" class=\"data row3 col1\" >What specifically about the quality of course materials helped your learning?</td>\n",
       "            </tr>\n",
       "            <tr>\n",
       "                                <td id=\"T_665bb_row4_col0\" class=\"data row4 col0\" >X840296</td>\n",
       "                        <td id=\"T_665bb_row4_col1\" class=\"data row4 col1\" >What else would you like to say about your learning experience in the course?  Please avoid personal comments about the instructor.</td>\n",
       "            </tr>\n",
       "            <tr>\n",
       "                                <td id=\"T_665bb_row5_col0\" class=\"data row5 col0\" >X840297</td>\n",
       "                        <td id=\"T_665bb_row5_col1\" class=\"data row5 col1\" >Why did you attend class 90-100% of the time?</td>\n",
       "            </tr>\n",
       "            <tr>\n",
       "                                <td id=\"T_665bb_row6_col0\" class=\"data row6 col0\" >X840302</td>\n",
       "                        <td id=\"T_665bb_row6_col1\" class=\"data row6 col1\" >What specific change in the inclusiveness of the course would help your learning?</td>\n",
       "            </tr>\n",
       "            <tr>\n",
       "                                <td id=\"T_665bb_row7_col0\" class=\"data row7 col0\" >X840304</td>\n",
       "                        <td id=\"T_665bb_row7_col1\" class=\"data row7 col1\" >What specific change in the feedback would help your learning?</td>\n",
       "            </tr>\n",
       "            <tr>\n",
       "                                <td id=\"T_665bb_row8_col0\" class=\"data row8 col0\" >X840316</td>\n",
       "                        <td id=\"T_665bb_row8_col1\" class=\"data row8 col1\" >What specifically about the support from the instructor helped your learning?</td>\n",
       "            </tr>\n",
       "            <tr>\n",
       "                                <td id=\"T_665bb_row9_col0\" class=\"data row9 col0\" >X840312</td>\n",
       "                        <td id=\"T_665bb_row9_col1\" class=\"data row9 col1\" >What specific change in the relevance of the course content would help your learning?</td>\n",
       "            </tr>\n",
       "            <tr>\n",
       "                                <td id=\"T_665bb_row10_col0\" class=\"data row10 col0\" >X840305</td>\n",
       "                        <td id=\"T_665bb_row10_col1\" class=\"data row10 col1\" >Was the course too hard or too easy? What specific change related to the level of challenge would help your learning?</td>\n",
       "            </tr>\n",
       "            <tr>\n",
       "                                <td id=\"T_665bb_row11_col0\" class=\"data row11 col0\" >X840317</td>\n",
       "                        <td id=\"T_665bb_row11_col1\" class=\"data row11 col1\" >What specifically about the feedback helped your learning?</td>\n",
       "            </tr>\n",
       "            <tr>\n",
       "                                <td id=\"T_665bb_row12_col0\" class=\"data row12 col0\" >X840306</td>\n",
       "                        <td id=\"T_665bb_row12_col1\" class=\"data row12 col1\" >What specific change in the quality of course materials would help your learning?</td>\n",
       "            </tr>\n",
       "            <tr>\n",
       "                                <td id=\"T_665bb_row13_col0\" class=\"data row13 col0\" >X840325</td>\n",
       "                        <td id=\"T_665bb_row13_col1\" class=\"data row13 col1\" >What specifically about the relevance of the course content helped your learning?</td>\n",
       "            </tr>\n",
       "            <tr>\n",
       "                                <td id=\"T_665bb_row14_col0\" class=\"data row14 col0\" >X840340</td>\n",
       "                        <td id=\"T_665bb_row14_col1\" class=\"data row14 col1\" >Please say more about how none of the teaching elements above need improvement to help your learning.</td>\n",
       "            </tr>\n",
       "            <tr>\n",
       "                                <td id=\"T_665bb_row15_col0\" class=\"data row15 col0\" >X840318</td>\n",
       "                        <td id=\"T_665bb_row15_col1\" class=\"data row15 col1\" >What specifically about the level of challenge helped your learning?</td>\n",
       "            </tr>\n",
       "            <tr>\n",
       "                                <td id=\"T_665bb_row16_col0\" class=\"data row16 col0\" >X840326</td>\n",
       "                        <td id=\"T_665bb_row16_col1\" class=\"data row16 col1\" >What specifically about the assignments or projects helped your learning?</td>\n",
       "            </tr>\n",
       "            <tr>\n",
       "                                <td id=\"T_665bb_row17_col0\" class=\"data row17 col0\" >X840311</td>\n",
       "                        <td id=\"T_665bb_row17_col1\" class=\"data row17 col1\" >What specific change in the organization of the course would help your learning?</td>\n",
       "            </tr>\n",
       "            <tr>\n",
       "                                <td id=\"T_665bb_row18_col0\" class=\"data row18 col0\" >X840315</td>\n",
       "                        <td id=\"T_665bb_row18_col1\" class=\"data row18 col1\" >What specifically about the inclusiveness of the course helped your learning?</td>\n",
       "            </tr>\n",
       "            <tr>\n",
       "                                <td id=\"T_665bb_row19_col0\" class=\"data row19 col0\" >X840308</td>\n",
       "                        <td id=\"T_665bb_row19_col1\" class=\"data row19 col1\" >What specific change in the use of active learning would help your learning?</td>\n",
       "            </tr>\n",
       "            <tr>\n",
       "                                <td id=\"T_665bb_row20_col0\" class=\"data row20 col0\" >X840324</td>\n",
       "                        <td id=\"T_665bb_row20_col1\" class=\"data row20 col1\" >What specifically about the organization of this course helped your learning?</td>\n",
       "            </tr>\n",
       "            <tr>\n",
       "                                <td id=\"T_665bb_row21_col0\" class=\"data row21 col0\" >X840310</td>\n",
       "                        <td id=\"T_665bb_row21_col1\" class=\"data row21 col1\" >What specific change in instructor communication would help your learning?</td>\n",
       "            </tr>\n",
       "            <tr>\n",
       "                                <td id=\"T_665bb_row22_col0\" class=\"data row22 col0\" >X840314</td>\n",
       "                        <td id=\"T_665bb_row22_col1\" class=\"data row22 col1\" >What specific change in the accessibility of the course would help your learning?</td>\n",
       "            </tr>\n",
       "            <tr>\n",
       "                                <td id=\"T_665bb_row23_col0\" class=\"data row23 col0\" >X840309</td>\n",
       "                        <td id=\"T_665bb_row23_col1\" class=\"data row23 col1\" >What specific change in the interactions between students would help your learning?</td>\n",
       "            </tr>\n",
       "            <tr>\n",
       "                                <td id=\"T_665bb_row24_col0\" class=\"data row24 col0\" >X840299</td>\n",
       "                        <td id=\"T_665bb_row24_col1\" class=\"data row24 col1\" >Why did you attend class 50-75% of the time?</td>\n",
       "            </tr>\n",
       "            <tr>\n",
       "                                <td id=\"T_665bb_row25_col0\" class=\"data row25 col0\" >X840303</td>\n",
       "                        <td id=\"T_665bb_row25_col1\" class=\"data row25 col1\" >What specific change in the support from the instructor would help your learning?</td>\n",
       "            </tr>\n",
       "            <tr>\n",
       "                                <td id=\"T_665bb_row26_col0\" class=\"data row26 col0\" >X840322</td>\n",
       "                        <td id=\"T_665bb_row26_col1\" class=\"data row26 col1\" >What specifically about the interactions between students helped your learning?</td>\n",
       "            </tr>\n",
       "            <tr>\n",
       "                                <td id=\"T_665bb_row27_col0\" class=\"data row27 col0\" >X840320</td>\n",
       "                        <td id=\"T_665bb_row27_col1\" class=\"data row27 col1\" >What specifically about the clarity of instructions helped your learning?</td>\n",
       "            </tr>\n",
       "            <tr>\n",
       "                                <td id=\"T_665bb_row28_col0\" class=\"data row28 col0\" >X840323</td>\n",
       "                        <td id=\"T_665bb_row28_col1\" class=\"data row28 col1\" >What specifically about instructor communication helped your learning?</td>\n",
       "            </tr>\n",
       "            <tr>\n",
       "                                <td id=\"T_665bb_row29_col0\" class=\"data row29 col0\" >X840313</td>\n",
       "                        <td id=\"T_665bb_row29_col1\" class=\"data row29 col1\" >What specific change in the assignments or projects would help your learning?</td>\n",
       "            </tr>\n",
       "            <tr>\n",
       "                                <td id=\"T_665bb_row30_col0\" class=\"data row30 col0\" >X840327</td>\n",
       "                        <td id=\"T_665bb_row30_col1\" class=\"data row30 col1\" >What specifically about the accessibility of this course helped your learning?</td>\n",
       "            </tr>\n",
       "            <tr>\n",
       "                                <td id=\"T_665bb_row31_col0\" class=\"data row31 col0\" >X840339</td>\n",
       "                        <td id=\"T_665bb_row31_col1\" class=\"data row31 col1\" >Please say more about how none of the teaching elements above were helpful to your learning.</td>\n",
       "            </tr>\n",
       "            <tr>\n",
       "                                <td id=\"T_665bb_row32_col0\" class=\"data row32 col0\" >X840300</td>\n",
       "                        <td id=\"T_665bb_row32_col1\" class=\"data row32 col1\" >Why did you attend class 25-50% of the time?</td>\n",
       "            </tr>\n",
       "            <tr>\n",
       "                                <td id=\"T_665bb_row33_col0\" class=\"data row33 col0\" >X840301</td>\n",
       "                        <td id=\"T_665bb_row33_col1\" class=\"data row33 col1\" >Why did you attend class 0-25% of the time?</td>\n",
       "            </tr>\n",
       "            <tr>\n",
       "                                <td id=\"T_665bb_row34_col0\" class=\"data row34 col0\" >X840424</td>\n",
       "                        <td id=\"T_665bb_row34_col1\" class=\"data row34 col1\" >Describe any challenges you may have faced this session...</td>\n",
       "            </tr>\n",
       "    </tbody></table>"
      ],
      "text/plain": [
       "<pandas.io.formats.style.Styler at 0x7f1dfa0462e0>"
      ]
     },
     "execution_count": 26,
     "metadata": {},
     "output_type": "execute_result"
    }
   ],
   "source": [
    "raw_data[[filter_col,verbose_filter_col]].drop_duplicates().style.hide_index()"
   ]
  },
  {
   "cell_type": "markdown",
   "metadata": {},
   "source": [
    "### Define the subset I am interested in"
   ]
  },
  {
   "cell_type": "code",
   "execution_count": 27,
   "metadata": {},
   "outputs": [],
   "source": [
    "#filter_vals = ['X840315', 'X840302'] # Inclusiveness Questions\n",
    "#filter_vals = ['X840314', 'X840327'] # Accessibility Questions\n",
    "filter_vals = ['X840303','X840316'] # Support Questions"
   ]
  },
  {
   "cell_type": "markdown",
   "metadata": {},
   "source": [
    "### Fast Viewer which removes words popular over the whole corpus including those from the desired category"
   ]
  },
  {
   "cell_type": "code",
   "execution_count": 35,
   "metadata": {},
   "outputs": [
    {
     "data": {
      "application/vnd.jupyter.widget-view+json": {
       "model_id": "621a87f84f494cd68fd15af5f0e4b272",
       "version_major": 2,
       "version_minor": 0
      },
      "text/plain": [
       "interactive(children=(Dropdown(description='num_words', index=2, options=(5, 20, 40, 60, 100, 1000, 10000), va…"
      ]
     },
     "metadata": {},
     "output_type": "display_data"
    }
   ],
   "source": [
    "filtered_scores1 = tfidf_scores[raw_data[filter_col].isin(filter_vals)]\n",
    "top_words_filtered1 = pd.DataFrame(filtered_scores1.mean().sort_values(ascending = False), columns = [\"tf-idf\"])\n",
    "top_words_all1 = pd.DataFrame(tfidf_scores.mean().sort_values(ascending = False),columns=[\"tf-idf\"])\n",
    "@interact(num_words = [5,20,40,60,100,1000,10000],remove_n = [0,5,20,50,100,200,1000])\n",
    "def disp_top_words_filtered(num_words = 40, remove_n = 100, display_as_str = False):\n",
    "    words_to_drop = top_words_all1.index.to_list()[:remove_n] # Select which words to remove\n",
    "    display_html(f\"<b>Top words in average tf-idf (not in the top {remove_n} for all data), where {filter_col} has values in {filter_vals}\",raw = True)\n",
    "    top_words = top_words_filtered1.drop(index = words_to_drop)\n",
    "    display_head_wide(top_words,num=num_words, cols= 5)\n",
    "    if display_as_str:\n",
    "        display_html(\" \".join(top_words.index[:num_words]),raw = True)"
   ]
  },
  {
   "cell_type": "markdown",
   "metadata": {},
   "source": [
    "### Viewer which only removes words that are popular in responses not in the desired category (slightly better but slower by a lot)"
   ]
  },
  {
   "cell_type": "code",
   "execution_count": 36,
   "metadata": {},
   "outputs": [
    {
     "data": {
      "application/vnd.jupyter.widget-view+json": {
       "model_id": "5367860323f045e8ae8fff6ecf6d82d9",
       "version_major": 2,
       "version_minor": 0
      },
      "text/plain": [
       "interactive(children=(Dropdown(description='num_words', index=2, options=(5, 20, 40, 60, 100, 1000, 10000), va…"
      ]
     },
     "metadata": {},
     "output_type": "display_data"
    }
   ],
   "source": [
    "filtered_scores = tfidf_scores[raw_data[filter_col].isin(filter_vals)] # Select documents from the subset of interest\n",
    "complement_scores = tfidf_scores[~raw_data[filter_col].isin(filter_vals)] # All other documents from the corpus. Getting parts of a sparse matrix efficiently is weird.\n",
    "top_words_filtered = pd.DataFrame(filtered_scores.mean().sort_values(ascending = False), columns = [\"tf-idf\"])\n",
    "top_words_complement = pd.DataFrame(complement_scores.mean().sort_values(ascending = False),columns=[\"tf-idf\"])\n",
    "@interact(num_words = [5,20,40,60,100,1000,10000],remove_n = [0,5,20,50,100,200,1000])\n",
    "def disp_top_words_filtered(num_words = 40, remove_n = 100, display_as_str = False):\n",
    "    words_to_drop = top_words_complement.index.to_list()[:remove_n] # Select which words to remove\n",
    "    display_html(f\"<b>Top words in average tf-idf (not in the top {remove_n} for all data in the complement), where {filter_col} has values in {filter_vals}\",raw = True)\n",
    "    top_words = top_words_filtered.drop(index = words_to_drop)\n",
    "    display_head_wide(top_words,num=num_words, cols= 5)\n",
    "    if display_as_str:\n",
    "        display_html(\", \".join(top_words.index[:num_words]),raw = True)"
   ]
  },
  {
   "cell_type": "code",
   "execution_count": null,
   "metadata": {},
   "outputs": [],
   "source": []
  }
 ],
 "metadata": {
  "interpreter": {
   "hash": "17c92ebe4c347de728263208104da506711e9388d419f2667b4726047bdcfa3c"
  },
  "kernelspec": {
   "display_name": "Python 3.8.1 64-bit ('azureml_py38': conda)",
   "name": "python3"
  },
  "language_info": {
   "codemirror_mode": {
    "name": "ipython",
    "version": 3
   },
   "file_extension": ".py",
   "mimetype": "text/x-python",
   "name": "python",
   "nbconvert_exporter": "python",
   "pygments_lexer": "ipython3",
   "version": "3.8.1"
  },
  "orig_nbformat": 4
 },
 "nbformat": 4,
 "nbformat_minor": 2
}
