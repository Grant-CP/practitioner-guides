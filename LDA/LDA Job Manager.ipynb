{
  "cells": [
    {
      "cell_type": "markdown",
      "metadata": {},
      "source": [
        "# How to initialize saved results on your system\n"
      ]
    },
    {
      "cell_type": "markdown",
      "metadata": {},
      "source": [
        "For now just edit each explorer notebook with the path to your data."
      ]
    },
    {
      "cell_type": "markdown",
      "metadata": {},
      "source": [
        "# Usage"
      ]
    },
    {
      "cell_type": "markdown",
      "metadata": {},
      "source": [
        "[Click here](#initialize-job-dict) to edit the settings for your run.\n",
        "\n",
        "[Click here](#execution-and-output) to view run progress."
      ]
    },
    {
      "cell_type": "markdown",
      "metadata": {},
      "source": [
        "# Imports"
      ]
    },
    {
      "cell_type": "code",
      "execution_count": 1,
      "metadata": {
        "gather": {
          "logged": 1625594377527
        }
      },
      "outputs": [],
      "source": [
        "import pandas as pd\n",
        "import numpy as np\n",
        "from IPython.display import display"
      ]
    },
    {
      "cell_type": "code",
      "execution_count": 2,
      "metadata": {
        "gather": {
          "logged": 1625594377808
        }
      },
      "outputs": [],
      "source": [
        "import json\n",
        "import os\n",
        "import time\n",
        "import shutil"
      ]
    },
    {
      "cell_type": "code",
      "execution_count": 3,
      "metadata": {
        "gather": {
          "logged": 1625594378449
        }
      },
      "outputs": [],
      "source": [
        "import nbformat\n",
        "from nbconvert.preprocessors import ExecutePreprocessor"
      ]
    },
    {
      "cell_type": "markdown",
      "metadata": {},
      "source": [
        "# Settings for the Job"
      ]
    },
    {
      "cell_type": "markdown",
      "metadata": {},
      "source": [
        "## Initialize Job Dict\n"
      ]
    },
    {
      "cell_type": "code",
      "execution_count": 4,
      "metadata": {
        "gather": {
          "logged": 1625594378747
        }
      },
      "outputs": [],
      "source": [
        "job_settings_dict = {\n",
        "    \"job_name\": \"All-SES-Ind-Sept-23\",\n",
        "    \"long_name\": \"All individual SES questions with the new preprocessed text and updated notebooks (now with links!)\",\n",
        "    \"experiments_path\": \"Experiment-Files/all-SES-exp.json\",\n",
        "    # Change these if you want to initialize on your own.\n",
        "    \"data_filepath\": \"/home/azureuser/cloudfiles/code/Data/pp-20210830_SES_and_SET.csv\",\n",
        "    \"output_directory\": \"/home/azureuser/cloudfiles/code/Jobs\",\n",
        "    \"include_metadata\": False,\n",
        "    \"metadata_path\": \"/home/azureuser/cloudfiles/code/Data/pp-20210830_SES_and_SET.csv\",\n",
        "    # Notebook directories\n",
        "    \"explorer_nb\": \"Interactive-LDA-Explorer.ipynb\",\n",
        "    \"gridsearch_nb\": \"Gensim Asym Gridsearch.ipynb\",\n",
        "    # Dataset details\n",
        "    \"text_column\": \"Preprocessed answer\",\n",
        "    \"nice_text_column\": \"answer\",\n",
        "    \"index_column\": \"unique_comment_ID\",\n",
        "    \"filter_column\": \"question_ID\",\n",
        "    # Stop words\n",
        "    \"stop_words\": [\"dr.\",\"firstname\",\"lastname\",\"professor\",\"instructor\",\"teacher\"],\n",
        "    # Hyperparameter space\n",
        "    \"num_topics\": [x for x in range(3,18,1)]\n",
        "}"
      ]
    },
    {
      "cell_type": "markdown",
      "metadata": {},
      "source": [
        "## Add computed values"
      ]
    },
    {
      "cell_type": "code",
      "execution_count": 5,
      "metadata": {
        "gather": {
          "logged": 1625594379050
        }
      },
      "outputs": [],
      "source": [
        "job_settings_dict[\"job_directory\"] = os.path.join(job_settings_dict[\"output_directory\"],job_settings_dict[\"job_name\"])"
      ]
    },
    {
      "cell_type": "markdown",
      "metadata": {},
      "source": [
        "## Set up experiments\n",
        "\n",
        "Each experiment can have different columns selected, or different hyperparameter sets for the gridsearch etc.\n"
      ]
    },
    {
      "cell_type": "code",
      "execution_count": null,
      "metadata": {},
      "outputs": [],
      "source": [
        "## An example notebook-level specification of experiments\n",
        "# experiments = [\n",
        "#     {\n",
        "#         \"job_name\": \"general-comments\",\n",
        "#         \"acceptable_values\": [\"X840296\"]\n",
        "#     },\n",
        "#     {\n",
        "#         \"job_name\": \"support-question\",\n",
        "#         \"acceptable_values\": ['X840316']\n",
        "#     },\n",
        "#     {\n",
        "#         \"job_name\": \"org-help\",\n",
        "#         \"acceptable_values\": [\"X840324\"]\n",
        "#     }\n",
        "# ]"
      ]
    },
    {
      "cell_type": "code",
      "execution_count": 6,
      "metadata": {
        "gather": {
          "logged": 1625594379289
        }
      },
      "outputs": [],
      "source": [
        "with open(job_settings_dict[\"experiments_path\"]) as exp_file:\n",
        "    experiments = json.load(exp_file)"
      ]
    },
    {
      "cell_type": "markdown",
      "metadata": {},
      "source": [
        "### Computed Experiment Values"
      ]
    },
    {
      "cell_type": "code",
      "execution_count": 7,
      "metadata": {
        "gather": {
          "logged": 1625594379530
        }
      },
      "outputs": [],
      "source": [
        "for exp in experiments:\n",
        "    # Specify path for each experiment\n",
        "    exp[\"job_directory\"] = os.path.join(job_settings_dict[\"job_directory\"],exp[\"job_name\"])\n",
        "    # Make sure each experiment as a name (should really be unique)\n",
        "    exp[\"job_name\"]"
      ]
    },
    {
      "cell_type": "markdown",
      "metadata": {},
      "source": [
        "### Add Experiments to Job\n"
      ]
    },
    {
      "cell_type": "code",
      "execution_count": 8,
      "metadata": {
        "gather": {
          "logged": 1625594379770
        }
      },
      "outputs": [],
      "source": [
        "job_settings_dict[\"experiments\"] = experiments[:]"
      ]
    },
    {
      "cell_type": "markdown",
      "metadata": {},
      "source": [
        "## Display Job Dict for inspection\n"
      ]
    },
    {
      "cell_type": "code",
      "execution_count": 9,
      "metadata": {
        "gather": {
          "logged": 1625594380079
        }
      },
      "outputs": [
        {
          "data": {
            "text/html": [
              "<div>\n",
              "<style scoped>\n",
              "    .dataframe tbody tr th:only-of-type {\n",
              "        vertical-align: middle;\n",
              "    }\n",
              "\n",
              "    .dataframe tbody tr th {\n",
              "        vertical-align: top;\n",
              "    }\n",
              "\n",
              "    .dataframe thead th {\n",
              "        text-align: right;\n",
              "    }\n",
              "</style>\n",
              "<table border=\"1\" class=\"dataframe\">\n",
              "  <thead>\n",
              "    <tr style=\"text-align: right;\">\n",
              "      <th></th>\n",
              "      <th>0</th>\n",
              "    </tr>\n",
              "  </thead>\n",
              "  <tbody>\n",
              "    <tr>\n",
              "      <th>job_name</th>\n",
              "      <td>All-SES-Ind-Sept-23</td>\n",
              "    </tr>\n",
              "    <tr>\n",
              "      <th>long_name</th>\n",
              "      <td>All individual SES questions with the new prep...</td>\n",
              "    </tr>\n",
              "    <tr>\n",
              "      <th>experiments_path</th>\n",
              "      <td>Experiment-Files/all-SES-exp.json</td>\n",
              "    </tr>\n",
              "    <tr>\n",
              "      <th>data_filepath</th>\n",
              "      <td>/home/azureuser/cloudfiles/code/Data/pp-202108...</td>\n",
              "    </tr>\n",
              "    <tr>\n",
              "      <th>output_directory</th>\n",
              "      <td>/home/azureuser/cloudfiles/code/Jobs</td>\n",
              "    </tr>\n",
              "    <tr>\n",
              "      <th>include_metadata</th>\n",
              "      <td>False</td>\n",
              "    </tr>\n",
              "    <tr>\n",
              "      <th>metadata_path</th>\n",
              "      <td>/home/azureuser/cloudfiles/code/Data/pp-202108...</td>\n",
              "    </tr>\n",
              "    <tr>\n",
              "      <th>explorer_nb</th>\n",
              "      <td>Interactive-LDA-Explorer.ipynb</td>\n",
              "    </tr>\n",
              "    <tr>\n",
              "      <th>gridsearch_nb</th>\n",
              "      <td>Gensim Asym Gridsearch.ipynb</td>\n",
              "    </tr>\n",
              "    <tr>\n",
              "      <th>text_column</th>\n",
              "      <td>Preprocessed answer</td>\n",
              "    </tr>\n",
              "    <tr>\n",
              "      <th>nice_text_column</th>\n",
              "      <td>answer</td>\n",
              "    </tr>\n",
              "    <tr>\n",
              "      <th>index_column</th>\n",
              "      <td>unique_comment_ID</td>\n",
              "    </tr>\n",
              "    <tr>\n",
              "      <th>filter_column</th>\n",
              "      <td>question_ID</td>\n",
              "    </tr>\n",
              "    <tr>\n",
              "      <th>stop_words</th>\n",
              "      <td>[dr., firstname, lastname, professor, instruct...</td>\n",
              "    </tr>\n",
              "    <tr>\n",
              "      <th>num_topics</th>\n",
              "      <td>[3, 4, 5, 6, 7, 8, 9, 10, 11, 12, 13, 14, 15, ...</td>\n",
              "    </tr>\n",
              "    <tr>\n",
              "      <th>job_directory</th>\n",
              "      <td>/home/azureuser/cloudfiles/code/Jobs/All-SES-I...</td>\n",
              "    </tr>\n",
              "    <tr>\n",
              "      <th>experiments</th>\n",
              "      <td>[{'job_name': 'X840307', 'long_name': 'What sp...</td>\n",
              "    </tr>\n",
              "  </tbody>\n",
              "</table>\n",
              "</div>"
            ],
            "text/plain": [
              "                                                                  0\n",
              "job_name                                        All-SES-Ind-Sept-23\n",
              "long_name         All individual SES questions with the new prep...\n",
              "experiments_path                  Experiment-Files/all-SES-exp.json\n",
              "data_filepath     /home/azureuser/cloudfiles/code/Data/pp-202108...\n",
              "output_directory               /home/azureuser/cloudfiles/code/Jobs\n",
              "include_metadata                                              False\n",
              "metadata_path     /home/azureuser/cloudfiles/code/Data/pp-202108...\n",
              "explorer_nb                          Interactive-LDA-Explorer.ipynb\n",
              "gridsearch_nb                          Gensim Asym Gridsearch.ipynb\n",
              "text_column                                     Preprocessed answer\n",
              "nice_text_column                                             answer\n",
              "index_column                                      unique_comment_ID\n",
              "filter_column                                           question_ID\n",
              "stop_words        [dr., firstname, lastname, professor, instruct...\n",
              "num_topics        [3, 4, 5, 6, 7, 8, 9, 10, 11, 12, 13, 14, 15, ...\n",
              "job_directory     /home/azureuser/cloudfiles/code/Jobs/All-SES-I...\n",
              "experiments       [{'job_name': 'X840307', 'long_name': 'What sp..."
            ]
          },
          "execution_count": 9,
          "metadata": {},
          "output_type": "execute_result"
        }
      ],
      "source": [
        "pd.DataFrame([job_settings_dict]).transpose()"
      ]
    },
    {
      "cell_type": "markdown",
      "metadata": {},
      "source": [
        "# Job Execute"
      ]
    },
    {
      "cell_type": "markdown",
      "metadata": {},
      "source": [
        "## Function Definitions\n"
      ]
    },
    {
      "cell_type": "code",
      "execution_count": 10,
      "metadata": {
        "gather": {
          "logged": 1625594380332
        }
      },
      "outputs": [],
      "source": [
        "def prepare_job(job_config = job_settings_dict, top_level_job = False):\n",
        "    job_dir = job_config[\"job_directory\"]\n",
        "    # Create the job directory\n",
        "    os.makedirs(job_dir, exist_ok = True)\n",
        "    # Dump the job configuration\n",
        "    with open(os.path.join(job_dir,\"job_config.json\"),\"w\") as file:\n",
        "        json.dump(job_config, file, indent=4)\n",
        "    # Dump the explorer notebook template\n",
        "    if top_level_job:\n",
        "        shutil.copyfile(\n",
        "            src = job_config[\"explorer_nb\"],\n",
        "            dst = os.path.join(job_dir,\"Explorer.ipynb\")\n",
        "            )"
      ]
    },
    {
      "cell_type": "code",
      "execution_count": 11,
      "metadata": {
        "gather": {
          "logged": 1625594380574
        }
      },
      "outputs": [],
      "source": [
        "def do_gridsearch(job_config = job_settings_dict):\n",
        "    job_dir = job_config['job_directory']\n",
        "    gridsearch_template_nb = \"Gensim Asym Gridsearch.ipynb\"\n",
        "    output_nb = \"Gridsearch.ipynb\"\n",
        "    with open(gridsearch_template_nb,\"r\") as nb_file:\n",
        "        nb = nbformat.read(nb_file,as_version= 4) #Read gridsearch template notebook\n",
        "        ep = ExecutePreprocessor(timeout = 24*60*60) #Execute gridsearch notebook with 1 day cell timeout\n",
        "        ep.preprocess(nb,{'metadata': {'path': job_dir}}) #Actually execute notebook, specifying the correct directory\n",
        "        with open(os.path.join(job_dir,output_nb),\"w\") as output_file:\n",
        "            nbformat.write(nb,output_file) #Write completed gridsearch"
      ]
    },
    {
      "cell_type": "code",
      "execution_count": 12,
      "metadata": {
        "gather": {
          "logged": 1625594380828
        }
      },
      "outputs": [],
      "source": [
        "def run_experiments(update_settings_only = False):\n",
        "    prepare_job(top_level_job = True)\n",
        "    experiments = job_settings_dict[\"experiments\"]\n",
        "    num_experiments = len(experiments)\n",
        "    current_exp = 0\n",
        "    for exp in experiments:\n",
        "        current_exp += 1\n",
        "        # Set up new config file for experiment with its base being job_settings\n",
        "        exp_config = job_settings_dict.copy()\n",
        "        # Remove \"experiments\" section from the new job config\n",
        "        del exp_config[\"experiments\"]\n",
        "        # Replace default job config with variables from experiment\n",
        "        exp_config.update(exp)\n",
        "        # Run job setup on the experiment\n",
        "        print(f\"Running Setup for: {exp['job_name']}, {current_exp} of {num_experiments}\")\n",
        "        prepare_job(exp_config)\n",
        "        # Skip fitting if setup parameter is true\n",
        "        if update_settings_only: continue\n",
        "        # Run gridsearch on the experiment and save it in the experiment directory\n",
        "        print(f\"Performing analysis for: {exp['job_name']}\")\n",
        "        print(time.ctime(),\"\\n\")\n",
        "        do_gridsearch(exp_config)\n",
        "    print(\"Job Done\")\n",
        "    print(time.ctime())"
      ]
    },
    {
      "cell_type": "markdown",
      "metadata": {},
      "source": [
        "## Execution and Output\n"
      ]
    },
    {
      "cell_type": "code",
      "execution_count": 13,
      "metadata": {
        "gather": {
          "logged": 1625596332862
        }
      },
      "outputs": [
        {
          "name": "stdout",
          "output_type": "stream",
          "text": [
            "Running Setup for: X840307, 1 of 35\n",
            "Performing analysis for: X840307\n",
            "Thu Sep 23 21:18:05 2021 \n",
            "\n",
            "Running Setup for: X840321, 2 of 35\n",
            "Performing analysis for: X840321\n",
            "Thu Sep 23 21:19:25 2021 \n",
            "\n",
            "Running Setup for: X840298, 3 of 35\n",
            "Performing analysis for: X840298\n",
            "Thu Sep 23 21:20:28 2021 \n",
            "\n",
            "Running Setup for: X840319, 4 of 35\n",
            "Performing analysis for: X840319\n",
            "Thu Sep 23 21:21:19 2021 \n",
            "\n",
            "Running Setup for: X840296, 5 of 35\n",
            "Performing analysis for: X840296\n",
            "Thu Sep 23 21:22:28 2021 \n",
            "\n",
            "Running Setup for: X840297, 6 of 35\n",
            "Performing analysis for: X840297\n",
            "Thu Sep 23 21:23:53 2021 \n",
            "\n",
            "Running Setup for: X840302, 7 of 35\n",
            "Performing analysis for: X840302\n",
            "Thu Sep 23 21:25:31 2021 \n",
            "\n",
            "Running Setup for: X840304, 8 of 35\n",
            "Performing analysis for: X840304\n",
            "Thu Sep 23 21:26:57 2021 \n",
            "\n",
            "Running Setup for: X840316, 9 of 35\n",
            "Performing analysis for: X840316\n",
            "Thu Sep 23 21:27:54 2021 \n",
            "\n",
            "Running Setup for: X840312, 10 of 35\n",
            "Performing analysis for: X840312\n",
            "Thu Sep 23 21:29:10 2021 \n",
            "\n",
            "Running Setup for: X840305, 11 of 35\n",
            "Performing analysis for: X840305\n",
            "Thu Sep 23 21:30:27 2021 \n",
            "\n",
            "Running Setup for: X840317, 12 of 35\n",
            "Performing analysis for: X840317\n",
            "Thu Sep 23 21:31:41 2021 \n",
            "\n",
            "Running Setup for: X840306, 13 of 35\n",
            "Performing analysis for: X840306\n",
            "Thu Sep 23 21:32:38 2021 \n",
            "\n",
            "Running Setup for: X840325, 14 of 35\n",
            "Performing analysis for: X840325\n",
            "Thu Sep 23 21:33:45 2021 \n",
            "\n",
            "Running Setup for: X840340, 15 of 35\n",
            "Performing analysis for: X840340\n",
            "Thu Sep 23 21:34:55 2021 \n",
            "\n",
            "Running Setup for: X840318, 16 of 35\n",
            "Performing analysis for: X840318\n",
            "Thu Sep 23 21:36:10 2021 \n",
            "\n",
            "Running Setup for: X840326, 17 of 35\n",
            "Performing analysis for: X840326\n",
            "Thu Sep 23 21:37:18 2021 \n",
            "\n",
            "Running Setup for: X840311, 18 of 35\n",
            "Performing analysis for: X840311\n",
            "Thu Sep 23 21:38:27 2021 \n",
            "\n",
            "Running Setup for: X840315, 19 of 35\n",
            "Performing analysis for: X840315\n",
            "Thu Sep 23 21:39:41 2021 \n",
            "\n",
            "Running Setup for: X840308, 20 of 35\n",
            "Performing analysis for: X840308\n",
            "Thu Sep 23 21:40:40 2021 \n",
            "\n",
            "Running Setup for: X840324, 21 of 35\n",
            "Performing analysis for: X840324\n",
            "Thu Sep 23 21:41:37 2021 \n",
            "\n",
            "Running Setup for: X840310, 22 of 35\n",
            "Performing analysis for: X840310\n",
            "Thu Sep 23 21:42:40 2021 \n",
            "\n",
            "Running Setup for: X840314, 23 of 35\n",
            "Performing analysis for: X840314\n",
            "Thu Sep 23 21:43:55 2021 \n",
            "\n",
            "Running Setup for: X840309, 24 of 35\n",
            "Performing analysis for: X840309\n",
            "Thu Sep 23 21:45:27 2021 \n",
            "\n",
            "Running Setup for: X840299, 25 of 35\n",
            "Performing analysis for: X840299\n",
            "Thu Sep 23 21:46:40 2021 \n",
            "\n",
            "Running Setup for: X840303, 26 of 35\n",
            "Performing analysis for: X840303\n",
            "Thu Sep 23 21:47:57 2021 \n",
            "\n",
            "Running Setup for: X840320, 27 of 35\n",
            "Performing analysis for: X840320\n",
            "Thu Sep 23 21:49:06 2021 \n",
            "\n",
            "Running Setup for: X840322, 28 of 35\n",
            "Performing analysis for: X840322\n",
            "Thu Sep 23 21:49:59 2021 \n",
            "\n",
            "Running Setup for: X840323, 29 of 35\n",
            "Performing analysis for: X840323\n",
            "Thu Sep 23 21:51:11 2021 \n",
            "\n",
            "Running Setup for: X840313, 30 of 35\n",
            "Performing analysis for: X840313\n",
            "Thu Sep 23 21:52:18 2021 \n",
            "\n",
            "Running Setup for: X840327, 31 of 35\n",
            "Performing analysis for: X840327\n",
            "Thu Sep 23 21:53:30 2021 \n",
            "\n",
            "Running Setup for: X840339, 32 of 35\n",
            "Performing analysis for: X840339\n",
            "Thu Sep 23 21:54:57 2021 \n",
            "\n",
            "Running Setup for: X840300, 33 of 35\n",
            "Performing analysis for: X840300\n",
            "Thu Sep 23 21:55:57 2021 \n",
            "\n",
            "Running Setup for: X840301, 34 of 35\n",
            "Performing analysis for: X840301\n",
            "Thu Sep 23 21:57:13 2021 \n",
            "\n",
            "Running Setup for: X840424, 35 of 35\n",
            "Performing analysis for: X840424\n",
            "Thu Sep 23 21:58:23 2021 \n",
            "\n",
            "Job Done\n",
            "Thu Sep 23 21:59:41 2021\n"
          ]
        }
      ],
      "source": [
        "run_experiments(\n",
        "    #update_settings_only = True\n",
        "    )"
      ]
    },
    {
      "cell_type": "code",
      "execution_count": null,
      "metadata": {},
      "outputs": [],
      "source": []
    }
  ],
  "metadata": {
    "interpreter": {
      "hash": "17c92ebe4c347de728263208104da506711e9388d419f2667b4726047bdcfa3c"
    },
    "kernel_info": {
      "name": "python38-azureml"
    },
    "kernelspec": {
      "display_name": "Python 3.8.1 64-bit ('azureml_py38': conda)",
      "name": "python3"
    },
    "language_info": {
      "codemirror_mode": {
        "name": "ipython",
        "version": 3
      },
      "file_extension": ".py",
      "mimetype": "text/x-python",
      "name": "python",
      "nbconvert_exporter": "python",
      "pygments_lexer": "ipython3",
      "version": "3.8.6"
    },
    "nteract": {
      "version": "nteract-front-end@1.0.0"
    },
    "orig_nbformat": 4
  },
  "nbformat": 4,
  "nbformat_minor": 2
}
